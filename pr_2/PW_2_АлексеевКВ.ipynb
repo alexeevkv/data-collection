{
 "cells": [
  {
   "cell_type": "markdown",
   "id": "9cc6efbf-6f84-443f-8295-542fd608e5f3",
   "metadata": {
    "id": "9cc6efbf-6f84-443f-8295-542fd608e5f3"
   },
   "source": [
    "**Алексеев Константин, Вариант 1, БД-231м**\n",
    " 1. Парсинг данных о дневных курсах валют с сайта Центрального банка РФ\n",
    " https://www.cbr.ru/currency_base/daily\n",
    "\n",
    "**Практическая работа 2**"
   ]
  },
  {
   "cell_type": "markdown",
   "id": "31ba8c27-e33a-4f53-803f-379c0ffe72a3",
   "metadata": {
    "id": "31ba8c27-e33a-4f53-803f-379c0ffe72a3"
   },
   "source": [
    "# Парсинг HTML. BeautifulSoup"
   ]
  },
  {
   "cell_type": "markdown",
   "id": "f3f2e762-7552-4c1f-a908-1a28589ed75a",
   "metadata": {
    "id": "f3f2e762-7552-4c1f-a908-1a28589ed75a"
   },
   "source": [
    "**Цель работы:** освоение техники парсинга HTML-страниц с помощью\n",
    "библиотеки BeautifulSoup в языке программирования Python для сбора, консолидации и\n",
    "аналитической обработки информации."
   ]
  },
  {
   "cell_type": "code",
   "execution_count": 21,
   "id": "73ceee30-b30b-4a4e-ae94-a610e1465a3f",
   "metadata": {
    "id": "73ceee30-b30b-4a4e-ae94-a610e1465a3f"
   },
   "outputs": [
    {
     "name": "stderr",
     "output_type": "stream",
     "text": [
      "c:\\Users\\User\\anaconda3\\envs\\universal_env\\lib\\site-packages\\scipy\\__init__.py:146: UserWarning: A NumPy version >=1.17.3 and <1.25.0 is required for this version of SciPy (detected version 1.26.4\n",
      "  warnings.warn(f\"A NumPy version >={np_minversion} and <{np_maxversion}\"\n"
     ]
    }
   ],
   "source": [
    "#Импортирование библиотек:\n",
    "import requests\n",
    "from bs4 import BeautifulSoup\n",
    "import pandas as pd\n",
    "import matplotlib.pyplot as plt\n",
    "import seaborn as sns"
   ]
  },
  {
   "cell_type": "markdown",
   "id": "9kj7fyVSOihx",
   "metadata": {
    "id": "9kj7fyVSOihx"
   },
   "source": [
    "3. Получение HTML-кода страницы"
   ]
  },
  {
   "cell_type": "code",
   "execution_count": 3,
   "id": "0cca1c31-2ae0-41f1-a082-aafc8bb656cf",
   "metadata": {
    "id": "0cca1c31-2ae0-41f1-a082-aafc8bb656cf"
   },
   "outputs": [],
   "source": [
    "url = 'https://www.cbr.ru/currency_base/daily/'\n",
    "response = requests.get(url)\n",
    "page_content = response.content"
   ]
  },
  {
   "cell_type": "markdown",
   "id": "DjDRz-LtOnmh",
   "metadata": {
    "id": "DjDRz-LtOnmh"
   },
   "source": [
    "4. Парсинг HTML с помощью BeautifulSoup"
   ]
  },
  {
   "cell_type": "code",
   "execution_count": 4,
   "id": "57f11614-f653-4324-9719-89172d6c58b9",
   "metadata": {
    "id": "57f11614-f653-4324-9719-89172d6c58b9"
   },
   "outputs": [],
   "source": [
    "soup = BeautifulSoup(page_content, 'html.parser')\n",
    "table = soup.find('table', {'class': 'data'})\n",
    "rows = table.find_all('tr')"
   ]
  },
  {
   "cell_type": "markdown",
   "id": "HCMOYOcrOv3G",
   "metadata": {
    "id": "HCMOYOcrOv3G"
   },
   "source": [
    "5. Извлечение данных и создание DataFrame"
   ]
  },
  {
   "cell_type": "code",
   "execution_count": 5,
   "id": "ccec5f90-2c14-4cc6-b9d5-5982196d9ce7",
   "metadata": {
    "colab": {
     "base_uri": "https://localhost:8080/",
     "height": 551
    },
    "id": "ccec5f90-2c14-4cc6-b9d5-5982196d9ce7",
    "outputId": "6e62a343-195a-4dae-ed90-0ce815b87373",
    "scrolled": true
   },
   "outputs": [],
   "source": [
    "data = []\n",
    "for row in rows[1:]:  # Пропускаем заголовок\n",
    "    cols = row.find_all('td')\n",
    "    cols = [ele.text.strip() for ele in cols]\n",
    "    data.append(cols)\n",
    "\n",
    "df = pd.DataFrame(data, columns=['Num', 'CharCode', 'Unit', 'Currency', 'Value'])\n",
    "df['Value'] = df['Value'].str.replace(',', '.').astype(float)"
   ]
  },
  {
   "cell_type": "markdown",
   "id": "_9VExIqfPFVo",
   "metadata": {
    "id": "_9VExIqfPFVo"
   },
   "source": [
    "6. Обработка данных"
   ]
  },
  {
   "cell_type": "code",
   "execution_count": 7,
   "id": "fc5185cc",
   "metadata": {},
   "outputs": [
    {
     "name": "stdout",
     "output_type": "stream",
     "text": [
      "<class 'pandas.core.frame.DataFrame'>\n",
      "RangeIndex: 43 entries, 0 to 42\n",
      "Data columns (total 5 columns):\n",
      " #   Column    Non-Null Count  Dtype  \n",
      "---  ------    --------------  -----  \n",
      " 0   Num       43 non-null     object \n",
      " 1   CharCode  43 non-null     object \n",
      " 2   Unit      43 non-null     object \n",
      " 3   Currency  43 non-null     object \n",
      " 4   Value     43 non-null     float64\n",
      "dtypes: float64(1), object(4)\n",
      "memory usage: 1.8+ KB\n"
     ]
    }
   ],
   "source": [
    "df.info()"
   ]
  },
  {
   "cell_type": "markdown",
   "id": "efb1c87b",
   "metadata": {},
   "source": [
    "С данными всё ок"
   ]
  },
  {
   "cell_type": "markdown",
   "id": "cab516d6-7a46-4102-bbf6-89024b73c6da",
   "metadata": {
    "id": "cab516d6-7a46-4102-bbf6-89024b73c6da"
   },
   "source": [
    "7. Анализ данных"
   ]
  },
  {
   "cell_type": "code",
   "execution_count": 20,
   "id": "cdae9be4-5c00-4b1d-a0ec-8d952a178a67",
   "metadata": {
    "id": "cdae9be4-5c00-4b1d-a0ec-8d952a178a67"
   },
   "outputs": [
    {
     "data": {
      "image/png": "[encoded data removed]",
      "text/plain": [
       "<Figure size 1152x720 with 1 Axes>"
      ]
     },
     "metadata": {
      "needs_background": "light"
     },
     "output_type": "display_data"
    }
   ],
   "source": [
    "df.sort_values(by='Value', ascending=False).plot(kind='bar', x='CharCode', y='Value', legend=False, figsize=(16, 10))\n",
    "plt.title('Курсы валют к рублю')\n",
    "plt.xlabel('Валюта')\n",
    "plt.ylabel('Курс')\n",
    "plt.xticks(rotation=45)\n",
    "plt.tight_layout()\n",
    "plt.show()"
   ]
  },
  {
   "cell_type": "code",
   "execution_count": 16,
   "id": "66629888",
   "metadata": {},
   "outputs": [
    {
     "name": "stdout",
     "output_type": "stream",
     "text": [
      "Самый высокий курс: СДР (специальные права заимствования) - 129.6529\n",
      "Самый низкий курс: Киргизских сомов - 11.3496\n"
     ]
    }
   ],
   "source": [
    "highest_rate = df.loc[df['Value'].idxmax()]\n",
    "lowest_rate = df.loc[df['Value'].idxmin()]\n",
    "\n",
    "print(f\"Самый высокий курс: {highest_rate['Currency']} - {highest_rate['Value']}\")\n",
    "print(f\"Самый низкий курс: {lowest_rate['Currency']} - {lowest_rate['Value']}\")"
   ]
  },
  {
   "cell_type": "code",
   "execution_count": 25,
   "id": "f4f56375",
   "metadata": {},
   "outputs": [
    {
     "data": {
      "text/html": [
       "<div>\n",
       "<style scoped>\n",
       "    .dataframe tbody tr th:only-of-type {\n",
       "        vertical-align: middle;\n",
       "    }\n",
       "\n",
       "    .dataframe tbody tr th {\n",
       "        vertical-align: top;\n",
       "    }\n",
       "\n",
       "    .dataframe thead th {\n",
       "        text-align: right;\n",
       "    }\n",
       "</style>\n",
       "<table border=\"1\" class=\"dataframe\">\n",
       "  <thead>\n",
       "    <tr style=\"text-align: right;\">\n",
       "      <th></th>\n",
       "      <th>Value</th>\n",
       "    </tr>\n",
       "  </thead>\n",
       "  <tbody>\n",
       "    <tr>\n",
       "      <th>count</th>\n",
       "      <td>43.000000</td>\n",
       "    </tr>\n",
       "    <tr>\n",
       "      <th>mean</th>\n",
       "      <td>51.741098</td>\n",
       "    </tr>\n",
       "    <tr>\n",
       "      <th>std</th>\n",
       "      <td>33.590992</td>\n",
       "    </tr>\n",
       "    <tr>\n",
       "      <th>min</th>\n",
       "      <td>11.349600</td>\n",
       "    </tr>\n",
       "    <tr>\n",
       "      <th>25%</th>\n",
       "      <td>24.821400</td>\n",
       "    </tr>\n",
       "    <tr>\n",
       "      <th>50%</th>\n",
       "      <td>41.798500</td>\n",
       "    </tr>\n",
       "    <tr>\n",
       "      <th>75%</th>\n",
       "      <td>72.271900</td>\n",
       "    </tr>\n",
       "    <tr>\n",
       "      <th>max</th>\n",
       "      <td>129.652900</td>\n",
       "    </tr>\n",
       "  </tbody>\n",
       "</table>\n",
       "</div>"
      ],
      "text/plain": [
       "            Value\n",
       "count   43.000000\n",
       "mean    51.741098\n",
       "std     33.590992\n",
       "min     11.349600\n",
       "25%     24.821400\n",
       "50%     41.798500\n",
       "75%     72.271900\n",
       "max    129.652900"
      ]
     },
     "execution_count": 25,
     "metadata": {},
     "output_type": "execute_result"
    }
   ],
   "source": [
    "df.describe()"
   ]
  },
  {
   "cell_type": "markdown",
   "id": "ac3c2512-1e4c-4a52-8ecd-e4f8fb501f1d",
   "metadata": {
    "id": "ac3c2512-1e4c-4a52-8ecd-e4f8fb501f1d"
   },
   "source": [
    "**Вывод:**\n",
    "\n",
    "Самый высокий курс: СДР (специальные права заимствования) - 129.6529\n",
    "Самый низкий курс: Киргизских сомов - 11.3496\\\n",
    "\n",
    "Медианный курс - 41.8, а средний курс 51.7, что говорит о том, что из-за высоких курсов по отношению к некоторым валютам, средний курс увеличивается.\n"
   ]
  },
  {
   "cell_type": "markdown",
   "id": "39972910",
   "metadata": {},
   "source": []
  }
 ],
 "metadata": {
  "colab": {
   "provenance": []
  },
  "kernelspec": {
   "display_name": "universal_env",
   "language": "python",
   "name": "python3"
  },
  "language_info": {
   "codemirror_mode": {
    "name": "ipython",
    "version": 3
   },
   "file_extension": ".py",
   "mimetype": "text/x-python",
   "name": "python",
   "nbconvert_exporter": "python",
   "pygments_lexer": "ipython3",
   "version": "3.9.15"
  }
 },
 "nbformat": 4,
 "nbformat_minor": 5
}
