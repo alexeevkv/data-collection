{
 "cells": [
  {
   "cell_type": "markdown",
   "metadata": {
    "id": "RGcbZxxOH5EH"
   },
   "source": [
    "# Практическая работа 3. Программные средства консолидации данных.\n",
    "# Алексеев Константин БД-231м\n",
    "\n",
    "## Цель работы\n",
    "Освоить практические навыки консолидации данных из различных источников с использованием Python и библиотеки pandas.\n",
    "\n",
    "## Задачи\n",
    "1. Загрузить данные из различных источников (CSV, Excel, JSON).\n",
    "2. Провести предварительную обработку и очистку данных.\n",
    "3. Объединить данные из разных источников.\n",
    "4. Выполнить агрегацию и трансформацию данных.\n",
    "5. Сохранить консолидированные данные в новый файл.\n",
    "\n",
    "## Необходимое программное обеспечение\n",
    "- Python 3.x\n",
    "- Библиотеки: pandas, numpy, matplotlib\n",
    "\n",
    "## Исходные данные\n",
    "- `sales_2022.csv`: данные о продажах за 2022 год\n",
    "- `sales_2023.xlsx`: данные о продажах за 2023 год\n",
    "- `products.json`: информация о продуктах\n",
    "\n",
    "\n",
    "# Вариант 1. \n",
    "1. Файл CSV: данные о сотрудниках (имя, должность, зарплата). \n",
    "2. Файл Excel: данные о проектах (название проекта, бюджет, менеджер \n",
    "проекта). \n",
    "3. Файл JSON: данные о зарплатах по должностям. \n",
    "\n",
    "**Задача**: \n",
    "- объединить данные и рассчитать среднюю зарплату по каждому \n",
    "проекту, исходя из данных о сотрудниках и их участии в проектах.\n"
   ]
  },
  {
   "cell_type": "markdown",
   "metadata": {
    "id": "rrCNKG2ZII1s"
   },
   "source": [
    "## Ход работы"
   ]
  },
  {
   "cell_type": "markdown",
   "metadata": {
    "id": "wKifPGN0ILnu"
   },
   "source": [
    "Процесс создания тестовых данных для файлов\n",
    "- `employees.csv`\n",
    "- `projects.xlsx`\n",
    "- `project_assignments.json`\n"
   ]
  },
  {
   "cell_type": "code",
   "execution_count": 7,
   "metadata": {
    "id": "juFehJqiH1ET"
   },
   "outputs": [],
   "source": [
    "import pandas as pd\n",
    "import numpy as np\n",
    "import json\n",
    "from datetime import datetime, timedelta\n",
    "import random\n"
   ]
  },
  {
   "cell_type": "markdown",
   "metadata": {},
   "source": [
    "Файл JSON c данные о зарплатах по должностям не нужен, так как эта информация уже есть в данных о сотрудниках. \n",
    "Вместо него создадим json, в котором будет информация о том кто задействован на проекте, тогда получится выполнить задание"
   ]
  },
  {
   "cell_type": "code",
   "execution_count": null,
   "metadata": {
    "colab": {
     "base_uri": "https://localhost:8080/"
    },
    "id": "9F5dwllZIqqM",
    "outputId": "34fc9b08-4b25-4b79-f6dd-0f1c77ff7bd3"
   },
   "outputs": [],
   "source": [
    "# 1. Файл CSV: данные о сотрудниках (имя, должность, зарплата). \n",
    "\n",
    "num_employees = 2000\n",
    "employee_names = [f'Сотрудник_{i}' for i in range(1, num_employees + 1)]\n",
    "positions = np.random.choice(['Разработчик', 'Менеджер', 'Тестировщик', 'Аналитик'], size=num_employees)\n",
    "salaries = np.random.randint(50_000, 120_000, size=num_employees) \n",
    "\n",
    "employees_df = pd.DataFrame({\n",
    "    'employee_name': employee_names,\n",
    "    'position': positions,\n",
    "    'salary': salaries\n",
    "})\n",
    "employees_df.to_csv('data/employees.csv')\n",
    "\n",
    "# 2. Файл Excel: данные о проектах (название проекта, бюджет, менеджер проекта). \n",
    "num_projects = 100\n",
    "project_names = [f'Проект_{i}' for i in range(1, num_projects + 1)]\n",
    "budgets = np.random.randint(100_000, 1_000_000, size=num_projects)\n",
    "project_managers = np.random.choice(employee_names, size=num_projects)\n",
    "\n",
    "projects_df = pd.DataFrame({\n",
    "    'project_name': project_names,\n",
    "    'budget': budgets,\n",
    "    'project_manager': project_managers\n",
    "})\n",
    "projects_df.to_excel('data/projects.xlsx')\n",
    "\n",
    "\n",
    "# 3. Файл JSON: данные о том кто задействован на проекте\n",
    "project_assignments = {\n",
    "    'project_name': np.random.choice(project_names, size=num_employees).tolist(),\n",
    "    'employee_name': employee_names\n",
    "}\n",
    "\n",
    "with open('data/project_assignments.json', 'w', encoding='utf-8') as f:\n",
    "    json.dump(project_assignments, f, ensure_ascii=False)"
   ]
  },
  {
   "cell_type": "markdown",
   "metadata": {
    "id": "WMqOi45ZJKPW"
   },
   "source": [
    "Особенности сгенерированных данных:\n",
    "- Файлы связаны через `project_name` и `employee_name`\n",
    "- Данные имеют реалистичную структуру и вариативность.\n",
    "- Пропущенных данных нет, так как это является очень важной информации и вряд ли в реальной жизни будут пропуски в информации о ЗП или о том кто учавстсовал в проекте"
   ]
  },
  {
   "cell_type": "markdown",
   "metadata": {
    "id": "TBG7soLzJclT"
   },
   "source": [
    "### Шаг 1: Подготовка рабочей среды\n",
    "\n",
    "1. Импортируйте необходимые библиотеки:\n",
    "\n"
   ]
  },
  {
   "cell_type": "code",
   "execution_count": 8,
   "metadata": {
    "id": "tTq0rcZtJNqG"
   },
   "outputs": [],
   "source": [
    "import pandas as pd\n",
    "import numpy as np\n",
    "import matplotlib.pyplot as plt"
   ]
  },
  {
   "cell_type": "markdown",
   "metadata": {
    "id": "dqlsCfijJoMl"
   },
   "source": [
    "### Шаг 2: Загрузка данных"
   ]
  },
  {
   "cell_type": "code",
   "execution_count": 41,
   "metadata": {},
   "outputs": [],
   "source": [
    "employees_df = pd.read_csv('data/employees.csv', index_col=[0])\n",
    "projects_df = pd.read_excel('data/projects.xlsx', index_col=[0])\n",
    "project_assignments_df = pd.read_json('data/project_assignments.json')"
   ]
  },
  {
   "cell_type": "markdown",
   "metadata": {
    "id": "fKqey5q6J9op"
   },
   "source": [
    "### Шаг 3: Предварительная обработка и очистка данных\n",
    "1. Проверьте наличие пропущенных значений:"
   ]
  },
  {
   "cell_type": "code",
   "execution_count": 34,
   "metadata": {
    "colab": {
     "base_uri": "https://localhost:8080/"
    },
    "id": "glHIeyB9J-aJ",
    "outputId": "e90d09a6-0098-43c7-d0ce-a22777ce6c62"
   },
   "outputs": [
    {
     "name": "stdout",
     "output_type": "stream",
     "text": [
      "\n",
      "Пропущенные значения:\n",
      "Unnamed: 0       0\n",
      "employee_name    0\n",
      "position         0\n",
      "salary           0\n",
      "dtype: int64\n",
      "Unnamed: 0         0\n",
      "project_name       0\n",
      "budget             0\n",
      "project_manager    0\n",
      "dtype: int64\n",
      "project_name     0\n",
      "employee_name    0\n",
      "dtype: int64\n"
     ]
    }
   ],
   "source": [
    "print(\"\\nПропущенные значения:\")\n",
    "print(employees_df.isnull().sum())\n",
    "print(projects_df.isnull().sum())\n",
    "print(project_assignments_df.isnull().sum())"
   ]
  },
  {
   "cell_type": "markdown",
   "metadata": {
    "id": "FHAyqq9TKPs_"
   },
   "source": [
    "### Шаг 4: Объединение данных"
   ]
  },
  {
   "cell_type": "code",
   "execution_count": 55,
   "metadata": {},
   "outputs": [],
   "source": [
    "# Объединение данных о сотрудниках и их участии в проектах\n",
    "merged_df = project_assignments_df.merge(employees_df, left_on='employee_name', right_on='employee_name', how='left')\n",
    "\n",
    "# Объединение с данными о проектах\n",
    "final_merged_df = merged_df.merge(projects_df, on='project_name', how='left')"
   ]
  },
  {
   "cell_type": "code",
   "execution_count": 54,
   "metadata": {},
   "outputs": [
    {
     "data": {
      "text/html": [
       "<div>\n",
       "<style scoped>\n",
       "    .dataframe tbody tr th:only-of-type {\n",
       "        vertical-align: middle;\n",
       "    }\n",
       "\n",
       "    .dataframe tbody tr th {\n",
       "        vertical-align: top;\n",
       "    }\n",
       "\n",
       "    .dataframe thead th {\n",
       "        text-align: right;\n",
       "    }\n",
       "</style>\n",
       "<table border=\"1\" class=\"dataframe\">\n",
       "  <thead>\n",
       "    <tr style=\"text-align: right;\">\n",
       "      <th></th>\n",
       "      <th>project_name</th>\n",
       "      <th>employee_name</th>\n",
       "      <th>position</th>\n",
       "      <th>salary</th>\n",
       "      <th>budget</th>\n",
       "      <th>project_manager</th>\n",
       "    </tr>\n",
       "  </thead>\n",
       "  <tbody>\n",
       "    <tr>\n",
       "      <th>0</th>\n",
       "      <td>Проект_29</td>\n",
       "      <td>Сотрудник_1</td>\n",
       "      <td>Менеджер</td>\n",
       "      <td>89076</td>\n",
       "      <td>626671</td>\n",
       "      <td>Сотрудник_1990</td>\n",
       "    </tr>\n",
       "    <tr>\n",
       "      <th>1</th>\n",
       "      <td>Проект_88</td>\n",
       "      <td>Сотрудник_2</td>\n",
       "      <td>Аналитик</td>\n",
       "      <td>58064</td>\n",
       "      <td>281410</td>\n",
       "      <td>Сотрудник_1232</td>\n",
       "    </tr>\n",
       "    <tr>\n",
       "      <th>2</th>\n",
       "      <td>Проект_92</td>\n",
       "      <td>Сотрудник_3</td>\n",
       "      <td>Аналитик</td>\n",
       "      <td>86498</td>\n",
       "      <td>585814</td>\n",
       "      <td>Сотрудник_1280</td>\n",
       "    </tr>\n",
       "    <tr>\n",
       "      <th>3</th>\n",
       "      <td>Проект_27</td>\n",
       "      <td>Сотрудник_4</td>\n",
       "      <td>Разработчик</td>\n",
       "      <td>119464</td>\n",
       "      <td>934999</td>\n",
       "      <td>Сотрудник_1329</td>\n",
       "    </tr>\n",
       "    <tr>\n",
       "      <th>4</th>\n",
       "      <td>Проект_44</td>\n",
       "      <td>Сотрудник_5</td>\n",
       "      <td>Тестировщик</td>\n",
       "      <td>93750</td>\n",
       "      <td>197088</td>\n",
       "      <td>Сотрудник_98</td>\n",
       "    </tr>\n",
       "    <tr>\n",
       "      <th>...</th>\n",
       "      <td>...</td>\n",
       "      <td>...</td>\n",
       "      <td>...</td>\n",
       "      <td>...</td>\n",
       "      <td>...</td>\n",
       "      <td>...</td>\n",
       "    </tr>\n",
       "    <tr>\n",
       "      <th>1995</th>\n",
       "      <td>Проект_30</td>\n",
       "      <td>Сотрудник_1996</td>\n",
       "      <td>Разработчик</td>\n",
       "      <td>69608</td>\n",
       "      <td>968469</td>\n",
       "      <td>Сотрудник_595</td>\n",
       "    </tr>\n",
       "    <tr>\n",
       "      <th>1996</th>\n",
       "      <td>Проект_15</td>\n",
       "      <td>Сотрудник_1997</td>\n",
       "      <td>Разработчик</td>\n",
       "      <td>68634</td>\n",
       "      <td>427206</td>\n",
       "      <td>Сотрудник_435</td>\n",
       "    </tr>\n",
       "    <tr>\n",
       "      <th>1997</th>\n",
       "      <td>Проект_29</td>\n",
       "      <td>Сотрудник_1998</td>\n",
       "      <td>Аналитик</td>\n",
       "      <td>80368</td>\n",
       "      <td>626671</td>\n",
       "      <td>Сотрудник_1990</td>\n",
       "    </tr>\n",
       "    <tr>\n",
       "      <th>1998</th>\n",
       "      <td>Проект_20</td>\n",
       "      <td>Сотрудник_1999</td>\n",
       "      <td>Менеджер</td>\n",
       "      <td>77170</td>\n",
       "      <td>264373</td>\n",
       "      <td>Сотрудник_1566</td>\n",
       "    </tr>\n",
       "    <tr>\n",
       "      <th>1999</th>\n",
       "      <td>Проект_25</td>\n",
       "      <td>Сотрудник_2000</td>\n",
       "      <td>Аналитик</td>\n",
       "      <td>72810</td>\n",
       "      <td>227148</td>\n",
       "      <td>Сотрудник_645</td>\n",
       "    </tr>\n",
       "  </tbody>\n",
       "</table>\n",
       "<p>2000 rows × 6 columns</p>\n",
       "</div>"
      ],
      "text/plain": [
       "     project_name   employee_name     position  salary  budget project_manager\n",
       "0       Проект_29     Сотрудник_1     Менеджер   89076  626671  Сотрудник_1990\n",
       "1       Проект_88     Сотрудник_2     Аналитик   58064  281410  Сотрудник_1232\n",
       "2       Проект_92     Сотрудник_3     Аналитик   86498  585814  Сотрудник_1280\n",
       "3       Проект_27     Сотрудник_4  Разработчик  119464  934999  Сотрудник_1329\n",
       "4       Проект_44     Сотрудник_5  Тестировщик   93750  197088    Сотрудник_98\n",
       "...           ...             ...          ...     ...     ...             ...\n",
       "1995    Проект_30  Сотрудник_1996  Разработчик   69608  968469   Сотрудник_595\n",
       "1996    Проект_15  Сотрудник_1997  Разработчик   68634  427206   Сотрудник_435\n",
       "1997    Проект_29  Сотрудник_1998     Аналитик   80368  626671  Сотрудник_1990\n",
       "1998    Проект_20  Сотрудник_1999     Менеджер   77170  264373  Сотрудник_1566\n",
       "1999    Проект_25  Сотрудник_2000     Аналитик   72810  227148   Сотрудник_645\n",
       "\n",
       "[2000 rows x 6 columns]"
      ]
     },
     "execution_count": 54,
     "metadata": {},
     "output_type": "execute_result"
    }
   ],
   "source": [
    "final_merged_df"
   ]
  },
  {
   "cell_type": "markdown",
   "metadata": {
    "id": "jYpMB013KbEx"
   },
   "source": [
    "### Шаг 5: Агрегация и трансформация данных\n",
    "Рассчитае среднюю зарплату по каждому проекту, исходя из данных о сотрудниках и их участии в проектах."
   ]
  },
  {
   "cell_type": "code",
   "execution_count": 56,
   "metadata": {
    "colab": {
     "base_uri": "https://localhost:8080/"
    },
    "id": "VWKgKHJDKomv",
    "outputId": "7f689d3a-3a61-49b0-9239-fbde2613426c"
   },
   "outputs": [],
   "source": [
    "average_salary_per_project = final_merged_df.groupby('project_name')['salary'].mean().reset_index()"
   ]
  },
  {
   "cell_type": "code",
   "execution_count": 57,
   "metadata": {},
   "outputs": [
    {
     "data": {
      "text/html": [
       "<div>\n",
       "<style scoped>\n",
       "    .dataframe tbody tr th:only-of-type {\n",
       "        vertical-align: middle;\n",
       "    }\n",
       "\n",
       "    .dataframe tbody tr th {\n",
       "        vertical-align: top;\n",
       "    }\n",
       "\n",
       "    .dataframe thead th {\n",
       "        text-align: right;\n",
       "    }\n",
       "</style>\n",
       "<table border=\"1\" class=\"dataframe\">\n",
       "  <thead>\n",
       "    <tr style=\"text-align: right;\">\n",
       "      <th></th>\n",
       "      <th>project_name</th>\n",
       "      <th>salary</th>\n",
       "    </tr>\n",
       "  </thead>\n",
       "  <tbody>\n",
       "    <tr>\n",
       "      <th>0</th>\n",
       "      <td>Проект_1</td>\n",
       "      <td>91977.928571</td>\n",
       "    </tr>\n",
       "    <tr>\n",
       "      <th>1</th>\n",
       "      <td>Проект_10</td>\n",
       "      <td>85509.375000</td>\n",
       "    </tr>\n",
       "    <tr>\n",
       "      <th>2</th>\n",
       "      <td>Проект_100</td>\n",
       "      <td>87150.076923</td>\n",
       "    </tr>\n",
       "    <tr>\n",
       "      <th>3</th>\n",
       "      <td>Проект_11</td>\n",
       "      <td>85340.368421</td>\n",
       "    </tr>\n",
       "    <tr>\n",
       "      <th>4</th>\n",
       "      <td>Проект_12</td>\n",
       "      <td>90003.136364</td>\n",
       "    </tr>\n",
       "    <tr>\n",
       "      <th>...</th>\n",
       "      <td>...</td>\n",
       "      <td>...</td>\n",
       "    </tr>\n",
       "    <tr>\n",
       "      <th>95</th>\n",
       "      <td>Проект_95</td>\n",
       "      <td>85980.857143</td>\n",
       "    </tr>\n",
       "    <tr>\n",
       "      <th>96</th>\n",
       "      <td>Проект_96</td>\n",
       "      <td>90100.125000</td>\n",
       "    </tr>\n",
       "    <tr>\n",
       "      <th>97</th>\n",
       "      <td>Проект_97</td>\n",
       "      <td>83889.411765</td>\n",
       "    </tr>\n",
       "    <tr>\n",
       "      <th>98</th>\n",
       "      <td>Проект_98</td>\n",
       "      <td>87545.384615</td>\n",
       "    </tr>\n",
       "    <tr>\n",
       "      <th>99</th>\n",
       "      <td>Проект_99</td>\n",
       "      <td>85958.666667</td>\n",
       "    </tr>\n",
       "  </tbody>\n",
       "</table>\n",
       "<p>100 rows × 2 columns</p>\n",
       "</div>"
      ],
      "text/plain": [
       "   project_name        salary\n",
       "0      Проект_1  91977.928571\n",
       "1     Проект_10  85509.375000\n",
       "2    Проект_100  87150.076923\n",
       "3     Проект_11  85340.368421\n",
       "4     Проект_12  90003.136364\n",
       "..          ...           ...\n",
       "95    Проект_95  85980.857143\n",
       "96    Проект_96  90100.125000\n",
       "97    Проект_97  83889.411765\n",
       "98    Проект_98  87545.384615\n",
       "99    Проект_99  85958.666667\n",
       "\n",
       "[100 rows x 2 columns]"
      ]
     },
     "execution_count": 57,
     "metadata": {},
     "output_type": "execute_result"
    }
   ],
   "source": [
    "average_salary_per_project"
   ]
  },
  {
   "cell_type": "markdown",
   "metadata": {
    "id": "9FoMjqupKsIf"
   },
   "source": [
    "### Шаг 6: Визуализация данных\n",
    "1. Средняя ЗП по проекту"
   ]
  },
  {
   "cell_type": "code",
   "execution_count": 63,
   "metadata": {
    "colab": {
     "base_uri": "https://localhost:8080/",
     "height": 545
    },
    "id": "XY4aSq7MKsm0",
    "outputId": "8f202054-f7b1-4d7d-ced4-cd503e295c9e"
   },
   "outputs": [
    {
     "data": {
      "text/plain": [
       "<Figure size 1296x864 with 0 Axes>"
      ]
     },
     "metadata": {},
     "output_type": "display_data"
    },
    {
     "data": {
      "image/png": "[encoded data removed]",
      "text/plain": [
       "<Figure size 432x288 with 1 Axes>"
      ]
     },
     "metadata": {
      "needs_background": "light"
     },
     "output_type": "display_data"
    }
   ],
   "source": [
    "plt.figure(figsize=(18, 12))\n",
    "average_salary_per_project.plot(kind='bar')\n",
    "plt.title('Средняя зарплата по проекту')\n",
    "plt.xlabel('Название проекта')\n",
    "plt.ylabel('Средняя зарплата')\n",
    "plt.show()"
   ]
  },
  {
   "cell_type": "markdown",
   "metadata": {
    "id": "UuE37VJ2LA0O"
   },
   "source": [
    "### Шаг 7: Сохранение консолидированных данных\n",
    "Сохраните консолидированные данные в CSV-файл:"
   ]
  },
  {
   "cell_type": "code",
   "execution_count": 64,
   "metadata": {
    "colab": {
     "base_uri": "https://localhost:8080/"
    },
    "id": "58lohakrLDUW",
    "outputId": "88dc5f6d-fa49-46cb-bb7b-ce024fd61b5a"
   },
   "outputs": [],
   "source": [
    "final_merged_df.to_csv('final_merged_df.csv', index=False)"
   ]
  },
  {
   "cell_type": "markdown",
   "metadata": {
    "id": "9AZhxIJgPJzW"
   },
   "source": [
    "**ИТОГ:**  Сгенерировали и объединили данные, рассчитали среднюю зарплату по каждому \n",
    "проекту, исходя из данных о сотрудниках и их участии в проектах"
   ]
  }
 ],
 "metadata": {
  "colab": {
   "provenance": []
  },
  "kernelspec": {
   "display_name": "universal_env",
   "language": "python",
   "name": "python3"
  },
  "language_info": {
   "codemirror_mode": {
    "name": "ipython",
    "version": 3
   },
   "file_extension": ".py",
   "mimetype": "text/x-python",
   "name": "python",
   "nbconvert_exporter": "python",
   "pygments_lexer": "ipython3",
   "version": "3.9.15"
  }
 },
 "nbformat": 4,
 "nbformat_minor": 0
}
