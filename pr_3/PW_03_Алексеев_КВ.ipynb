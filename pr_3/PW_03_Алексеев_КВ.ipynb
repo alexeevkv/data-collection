{
 "cells": [
  {
   "cell_type": "markdown",
   "metadata": {
    "id": "RGcbZxxOH5EH"
   },
   "source": [
    "# Практическая работа 3. Программные средства консолидации данных.\n",
    "# Алексеев Константин БД-231м\n",
    "\n",
    "## Цель работы\n",
    "Освоить практические навыки консолидации данных из различных источников с использованием Python и библиотеки pandas.\n",
    "\n",
    "## Задачи\n",
    "1. Загрузить данные из различных источников (CSV, Excel, JSON).\n",
    "2. Провести предварительную обработку и очистку данных.\n",
    "3. Объединить данные из разных источников.\n",
    "4. Выполнить агрегацию и трансформацию данных.\n",
    "5. Сохранить консолидированные данные в новый файл.\n",
    "\n",
    "## Необходимое программное обеспечение\n",
    "- Python 3.x\n",
    "- Библиотеки: pandas, numpy, matplotlib\n",
    "\n",
    "## Исходные данные\n",
    "- `sales_2022.csv`: данные о продажах за 2022 год\n",
    "- `sales_2023.xlsx`: данные о продажах за 2023 год\n",
    "- `products.json`: информация о продуктах\n",
    "\n",
    "\n",
    "# Вариант 1. \n",
    "1. Файл CSV: данные о сотрудниках (имя, должность, зарплата). \n",
    "2. Файл Excel: данные о проектах (название проекта, бюджет, менеджер \n",
    "проекта). \n",
    "3. Файл JSON: данные о зарплатах по должностям. \n",
    "\n",
    "**Задача**: \n",
    "- объединить данные и рассчитать среднюю зарплату по каждому \n",
    "проекту, исходя из данных о сотрудниках и их участии в проектах.\n"
   ]
  },
  {
   "cell_type": "markdown",
   "metadata": {
    "id": "rrCNKG2ZII1s"
   },
   "source": [
    "## Ход работы"
   ]
  },
  {
   "cell_type": "markdown",
   "metadata": {
    "id": "wKifPGN0ILnu"
   },
   "source": [
    "Процесс создания тестовых данных для файлов\n",
    "- `employees.csv`\n",
    "- `projects.xlsx`\n",
    "- `project_assignments.json`\n"
   ]
  },
  {
   "cell_type": "code",
   "execution_count": 14,
   "metadata": {
    "id": "juFehJqiH1ET"
   },
   "outputs": [],
   "source": [
    "import pandas as pd\n",
    "import numpy as np\n",
    "import json\n",
    "import seaborn as sns\n",
    "from datetime import datetime, timedelta\n",
    "import random"
   ]
  },
  {
   "cell_type": "markdown",
   "metadata": {},
   "source": [
    "Файл JSON c данные о зарплатах по должностям не нужен, так как эта информация уже есть в данных о сотрудниках. \n",
    "Вместо него создадим json, в котором будет информация о том кто задействован на проекте, тогда получится выполнить задание"
   ]
  },
  {
   "cell_type": "code",
   "execution_count": 2,
   "metadata": {
    "colab": {
     "base_uri": "https://localhost:8080/"
    },
    "id": "9F5dwllZIqqM",
    "outputId": "34fc9b08-4b25-4b79-f6dd-0f1c77ff7bd3"
   },
   "outputs": [],
   "source": [
    "# 1. Файл CSV: данные о сотрудниках (имя, должность, зарплата). \n",
    "\n",
    "num_employees = 2000\n",
    "employee_names = [f'Сотрудник_{i}' for i in range(1, num_employees + 1)]\n",
    "positions = np.random.choice(['Разработчик', 'Менеджер', 'Тестировщик', 'Аналитик'], size=num_employees)\n",
    "salaries = np.random.randint(50_000, 120_000, size=num_employees) \n",
    "\n",
    "employees_df = pd.DataFrame({\n",
    "    'employee_name': employee_names,\n",
    "    'position': positions,\n",
    "    'salary': salaries\n",
    "})\n",
    "employees_df.to_csv('data/employees.csv')\n",
    "\n",
    "# 2. Файл Excel: данные о проектах (название проекта, бюджет, менеджер проекта). \n",
    "num_projects = 100\n",
    "project_names = [f'Проект_{i}' for i in range(1, num_projects + 1)]\n",
    "budgets = np.random.randint(100_000, 1_000_000, size=num_projects)\n",
    "project_managers = np.random.choice(employee_names, size=num_projects)\n",
    "\n",
    "projects_df = pd.DataFrame({\n",
    "    'project_name': project_names,\n",
    "    'budget': budgets,\n",
    "    'project_manager': project_managers\n",
    "})\n",
    "projects_df.to_excel('data/projects.xlsx')\n",
    "\n",
    "\n",
    "# 3. Файл JSON: данные о том кто задействован на проекте\n",
    "project_assignments = {\n",
    "    'project_name': np.random.choice(project_names, size=num_employees).tolist(),\n",
    "    'employee_name': employee_names\n",
    "}\n",
    "\n",
    "with open('data/project_assignments.json', 'w', encoding='utf-8') as f:\n",
    "    json.dump(project_assignments, f, ensure_ascii=False)"
   ]
  },
  {
   "cell_type": "markdown",
   "metadata": {
    "id": "WMqOi45ZJKPW"
   },
   "source": [
    "Особенности сгенерированных данных:\n",
    "- Файлы связаны через `project_name` и `employee_name`\n",
    "- Данные имеют реалистичную структуру и вариативность.\n",
    "- Пропущенных данных нет, так как это является очень важной информации и вряд ли в реальной жизни будут пропуски в информации о ЗП или о том кто учавстсовал в проекте"
   ]
  },
  {
   "cell_type": "markdown",
   "metadata": {
    "id": "TBG7soLzJclT"
   },
   "source": [
    "### Шаг 1: Подготовка рабочей среды\n",
    "\n",
    "1. Импортируйте необходимые библиотеки:\n",
    "\n"
   ]
  },
  {
   "cell_type": "code",
   "execution_count": 4,
   "metadata": {
    "id": "tTq0rcZtJNqG"
   },
   "outputs": [],
   "source": [
    "import pandas as pd\n",
    "import numpy as np\n",
    "import matplotlib.pyplot as plt"
   ]
  },
  {
   "cell_type": "markdown",
   "metadata": {
    "id": "dqlsCfijJoMl"
   },
   "source": [
    "### Шаг 2: Загрузка данных"
   ]
  },
  {
   "cell_type": "code",
   "execution_count": 5,
   "metadata": {},
   "outputs": [],
   "source": [
    "employees_df = pd.read_csv('data/employees.csv', index_col=[0])\n",
    "projects_df = pd.read_excel('data/projects.xlsx', index_col=[0])\n",
    "project_assignments_df = pd.read_json('data/project_assignments.json')"
   ]
  },
  {
   "cell_type": "markdown",
   "metadata": {
    "id": "fKqey5q6J9op"
   },
   "source": [
    "### Шаг 3: Предварительная обработка и очистка данных\n",
    "1. Проверьте наличие пропущенных значений:"
   ]
  },
  {
   "cell_type": "code",
   "execution_count": 6,
   "metadata": {
    "colab": {
     "base_uri": "https://localhost:8080/"
    },
    "id": "glHIeyB9J-aJ",
    "outputId": "e90d09a6-0098-43c7-d0ce-a22777ce6c62"
   },
   "outputs": [
    {
     "name": "stdout",
     "output_type": "stream",
     "text": [
      "\n",
      "Пропущенные значения:\n",
      "employee_name    0\n",
      "position         0\n",
      "salary           0\n",
      "dtype: int64\n",
      "project_name       0\n",
      "budget             0\n",
      "project_manager    0\n",
      "dtype: int64\n",
      "project_name     0\n",
      "employee_name    0\n",
      "dtype: int64\n"
     ]
    }
   ],
   "source": [
    "print(\"\\nПропущенные значения:\")\n",
    "print(employees_df.isnull().sum())\n",
    "print(projects_df.isnull().sum())\n",
    "print(project_assignments_df.isnull().sum())"
   ]
  },
  {
   "cell_type": "markdown",
   "metadata": {
    "id": "FHAyqq9TKPs_"
   },
   "source": [
    "### Шаг 4: Объединение данных"
   ]
  },
  {
   "cell_type": "code",
   "execution_count": 7,
   "metadata": {},
   "outputs": [],
   "source": [
    "# Объединение данных о сотрудниках и их участии в проектах\n",
    "merged_df = project_assignments_df.merge(employees_df, left_on='employee_name', right_on='employee_name', how='left')\n",
    "\n",
    "# Объединение с данными о проектах\n",
    "final_merged_df = merged_df.merge(projects_df, on='project_name', how='left')"
   ]
  },
  {
   "cell_type": "code",
   "execution_count": 8,
   "metadata": {},
   "outputs": [
    {
     "data": {
      "text/html": [
       "<div>\n",
       "<style scoped>\n",
       "    .dataframe tbody tr th:only-of-type {\n",
       "        vertical-align: middle;\n",
       "    }\n",
       "\n",
       "    .dataframe tbody tr th {\n",
       "        vertical-align: top;\n",
       "    }\n",
       "\n",
       "    .dataframe thead th {\n",
       "        text-align: right;\n",
       "    }\n",
       "</style>\n",
       "<table border=\"1\" class=\"dataframe\">\n",
       "  <thead>\n",
       "    <tr style=\"text-align: right;\">\n",
       "      <th></th>\n",
       "      <th>project_name</th>\n",
       "      <th>employee_name</th>\n",
       "      <th>position</th>\n",
       "      <th>salary</th>\n",
       "      <th>budget</th>\n",
       "      <th>project_manager</th>\n",
       "    </tr>\n",
       "  </thead>\n",
       "  <tbody>\n",
       "    <tr>\n",
       "      <th>0</th>\n",
       "      <td>Проект_62</td>\n",
       "      <td>Сотрудник_1</td>\n",
       "      <td>Разработчик</td>\n",
       "      <td>82525</td>\n",
       "      <td>758003</td>\n",
       "      <td>Сотрудник_82</td>\n",
       "    </tr>\n",
       "    <tr>\n",
       "      <th>1</th>\n",
       "      <td>Проект_100</td>\n",
       "      <td>Сотрудник_2</td>\n",
       "      <td>Тестировщик</td>\n",
       "      <td>84992</td>\n",
       "      <td>774799</td>\n",
       "      <td>Сотрудник_955</td>\n",
       "    </tr>\n",
       "    <tr>\n",
       "      <th>2</th>\n",
       "      <td>Проект_4</td>\n",
       "      <td>Сотрудник_3</td>\n",
       "      <td>Менеджер</td>\n",
       "      <td>63970</td>\n",
       "      <td>873048</td>\n",
       "      <td>Сотрудник_1062</td>\n",
       "    </tr>\n",
       "    <tr>\n",
       "      <th>3</th>\n",
       "      <td>Проект_98</td>\n",
       "      <td>Сотрудник_4</td>\n",
       "      <td>Тестировщик</td>\n",
       "      <td>106709</td>\n",
       "      <td>671735</td>\n",
       "      <td>Сотрудник_1906</td>\n",
       "    </tr>\n",
       "    <tr>\n",
       "      <th>4</th>\n",
       "      <td>Проект_13</td>\n",
       "      <td>Сотрудник_5</td>\n",
       "      <td>Менеджер</td>\n",
       "      <td>101589</td>\n",
       "      <td>808066</td>\n",
       "      <td>Сотрудник_467</td>\n",
       "    </tr>\n",
       "    <tr>\n",
       "      <th>...</th>\n",
       "      <td>...</td>\n",
       "      <td>...</td>\n",
       "      <td>...</td>\n",
       "      <td>...</td>\n",
       "      <td>...</td>\n",
       "      <td>...</td>\n",
       "    </tr>\n",
       "    <tr>\n",
       "      <th>1995</th>\n",
       "      <td>Проект_20</td>\n",
       "      <td>Сотрудник_1996</td>\n",
       "      <td>Разработчик</td>\n",
       "      <td>72440</td>\n",
       "      <td>664962</td>\n",
       "      <td>Сотрудник_150</td>\n",
       "    </tr>\n",
       "    <tr>\n",
       "      <th>1996</th>\n",
       "      <td>Проект_49</td>\n",
       "      <td>Сотрудник_1997</td>\n",
       "      <td>Тестировщик</td>\n",
       "      <td>95739</td>\n",
       "      <td>952178</td>\n",
       "      <td>Сотрудник_34</td>\n",
       "    </tr>\n",
       "    <tr>\n",
       "      <th>1997</th>\n",
       "      <td>Проект_35</td>\n",
       "      <td>Сотрудник_1998</td>\n",
       "      <td>Менеджер</td>\n",
       "      <td>107833</td>\n",
       "      <td>938625</td>\n",
       "      <td>Сотрудник_1420</td>\n",
       "    </tr>\n",
       "    <tr>\n",
       "      <th>1998</th>\n",
       "      <td>Проект_95</td>\n",
       "      <td>Сотрудник_1999</td>\n",
       "      <td>Разработчик</td>\n",
       "      <td>76103</td>\n",
       "      <td>554115</td>\n",
       "      <td>Сотрудник_1851</td>\n",
       "    </tr>\n",
       "    <tr>\n",
       "      <th>1999</th>\n",
       "      <td>Проект_72</td>\n",
       "      <td>Сотрудник_2000</td>\n",
       "      <td>Менеджер</td>\n",
       "      <td>95966</td>\n",
       "      <td>985672</td>\n",
       "      <td>Сотрудник_1714</td>\n",
       "    </tr>\n",
       "  </tbody>\n",
       "</table>\n",
       "<p>2000 rows × 6 columns</p>\n",
       "</div>"
      ],
      "text/plain": [
       "     project_name   employee_name     position  salary  budget project_manager\n",
       "0       Проект_62     Сотрудник_1  Разработчик   82525  758003    Сотрудник_82\n",
       "1      Проект_100     Сотрудник_2  Тестировщик   84992  774799   Сотрудник_955\n",
       "2        Проект_4     Сотрудник_3     Менеджер   63970  873048  Сотрудник_1062\n",
       "3       Проект_98     Сотрудник_4  Тестировщик  106709  671735  Сотрудник_1906\n",
       "4       Проект_13     Сотрудник_5     Менеджер  101589  808066   Сотрудник_467\n",
       "...           ...             ...          ...     ...     ...             ...\n",
       "1995    Проект_20  Сотрудник_1996  Разработчик   72440  664962   Сотрудник_150\n",
       "1996    Проект_49  Сотрудник_1997  Тестировщик   95739  952178    Сотрудник_34\n",
       "1997    Проект_35  Сотрудник_1998     Менеджер  107833  938625  Сотрудник_1420\n",
       "1998    Проект_95  Сотрудник_1999  Разработчик   76103  554115  Сотрудник_1851\n",
       "1999    Проект_72  Сотрудник_2000     Менеджер   95966  985672  Сотрудник_1714\n",
       "\n",
       "[2000 rows x 6 columns]"
      ]
     },
     "execution_count": 8,
     "metadata": {},
     "output_type": "execute_result"
    }
   ],
   "source": [
    "final_merged_df"
   ]
  },
  {
   "cell_type": "code",
   "execution_count": 11,
   "metadata": {},
   "outputs": [
    {
     "name": "stdout",
     "output_type": "stream",
     "text": [
      "<class 'pandas.core.frame.DataFrame'>\n",
      "RangeIndex: 2000 entries, 0 to 1999\n",
      "Data columns (total 6 columns):\n",
      " #   Column           Non-Null Count  Dtype \n",
      "---  ------           --------------  ----- \n",
      " 0   project_name     2000 non-null   object\n",
      " 1   employee_name    2000 non-null   object\n",
      " 2   position         2000 non-null   object\n",
      " 3   salary           2000 non-null   int64 \n",
      " 4   budget           2000 non-null   int64 \n",
      " 5   project_manager  2000 non-null   object\n",
      "dtypes: int64(2), object(4)\n",
      "memory usage: 93.9+ KB\n"
     ]
    }
   ],
   "source": [
    "final_merged_df.info()"
   ]
  },
  {
   "cell_type": "code",
   "execution_count": 12,
   "metadata": {},
   "outputs": [
    {
     "data": {
      "text/html": [
       "<div>\n",
       "<style scoped>\n",
       "    .dataframe tbody tr th:only-of-type {\n",
       "        vertical-align: middle;\n",
       "    }\n",
       "\n",
       "    .dataframe tbody tr th {\n",
       "        vertical-align: top;\n",
       "    }\n",
       "\n",
       "    .dataframe thead th {\n",
       "        text-align: right;\n",
       "    }\n",
       "</style>\n",
       "<table border=\"1\" class=\"dataframe\">\n",
       "  <thead>\n",
       "    <tr style=\"text-align: right;\">\n",
       "      <th></th>\n",
       "      <th>salary</th>\n",
       "      <th>budget</th>\n",
       "    </tr>\n",
       "  </thead>\n",
       "  <tbody>\n",
       "    <tr>\n",
       "      <th>count</th>\n",
       "      <td>2000.000000</td>\n",
       "      <td>2000.000000</td>\n",
       "    </tr>\n",
       "    <tr>\n",
       "      <th>mean</th>\n",
       "      <td>85298.341000</td>\n",
       "      <td>520533.187500</td>\n",
       "    </tr>\n",
       "    <tr>\n",
       "      <th>std</th>\n",
       "      <td>20185.691933</td>\n",
       "      <td>256787.651532</td>\n",
       "    </tr>\n",
       "    <tr>\n",
       "      <th>min</th>\n",
       "      <td>50008.000000</td>\n",
       "      <td>104123.000000</td>\n",
       "    </tr>\n",
       "    <tr>\n",
       "      <th>25%</th>\n",
       "      <td>67262.500000</td>\n",
       "      <td>272744.000000</td>\n",
       "    </tr>\n",
       "    <tr>\n",
       "      <th>50%</th>\n",
       "      <td>86273.500000</td>\n",
       "      <td>530303.000000</td>\n",
       "    </tr>\n",
       "    <tr>\n",
       "      <th>75%</th>\n",
       "      <td>101960.500000</td>\n",
       "      <td>727086.000000</td>\n",
       "    </tr>\n",
       "    <tr>\n",
       "      <th>max</th>\n",
       "      <td>119985.000000</td>\n",
       "      <td>995187.000000</td>\n",
       "    </tr>\n",
       "  </tbody>\n",
       "</table>\n",
       "</div>"
      ],
      "text/plain": [
       "              salary         budget\n",
       "count    2000.000000    2000.000000\n",
       "mean    85298.341000  520533.187500\n",
       "std     20185.691933  256787.651532\n",
       "min     50008.000000  104123.000000\n",
       "25%     67262.500000  272744.000000\n",
       "50%     86273.500000  530303.000000\n",
       "75%    101960.500000  727086.000000\n",
       "max    119985.000000  995187.000000"
      ]
     },
     "execution_count": 12,
     "metadata": {},
     "output_type": "execute_result"
    }
   ],
   "source": [
    "final_merged_df.describe()"
   ]
  },
  {
   "cell_type": "markdown",
   "metadata": {
    "id": "jYpMB013KbEx"
   },
   "source": [
    "### Шаг 5: Агрегация и трансформация данных\n",
    "Рассчитае среднюю зарплату по каждому проекту, исходя из данных о сотрудниках и их участии в проектах."
   ]
  },
  {
   "cell_type": "code",
   "execution_count": 9,
   "metadata": {
    "colab": {
     "base_uri": "https://localhost:8080/"
    },
    "id": "VWKgKHJDKomv",
    "outputId": "7f689d3a-3a61-49b0-9239-fbde2613426c"
   },
   "outputs": [],
   "source": [
    "average_salary_per_project = final_merged_df.groupby('project_name')['salary'].mean().reset_index()"
   ]
  },
  {
   "cell_type": "code",
   "execution_count": 10,
   "metadata": {},
   "outputs": [
    {
     "data": {
      "text/html": [
       "<div>\n",
       "<style scoped>\n",
       "    .dataframe tbody tr th:only-of-type {\n",
       "        vertical-align: middle;\n",
       "    }\n",
       "\n",
       "    .dataframe tbody tr th {\n",
       "        vertical-align: top;\n",
       "    }\n",
       "\n",
       "    .dataframe thead th {\n",
       "        text-align: right;\n",
       "    }\n",
       "</style>\n",
       "<table border=\"1\" class=\"dataframe\">\n",
       "  <thead>\n",
       "    <tr style=\"text-align: right;\">\n",
       "      <th></th>\n",
       "      <th>project_name</th>\n",
       "      <th>salary</th>\n",
       "    </tr>\n",
       "  </thead>\n",
       "  <tbody>\n",
       "    <tr>\n",
       "      <th>0</th>\n",
       "      <td>Проект_1</td>\n",
       "      <td>86304.750000</td>\n",
       "    </tr>\n",
       "    <tr>\n",
       "      <th>1</th>\n",
       "      <td>Проект_10</td>\n",
       "      <td>85865.950000</td>\n",
       "    </tr>\n",
       "    <tr>\n",
       "      <th>2</th>\n",
       "      <td>Проект_100</td>\n",
       "      <td>83132.260870</td>\n",
       "    </tr>\n",
       "    <tr>\n",
       "      <th>3</th>\n",
       "      <td>Проект_11</td>\n",
       "      <td>88303.363636</td>\n",
       "    </tr>\n",
       "    <tr>\n",
       "      <th>4</th>\n",
       "      <td>Проект_12</td>\n",
       "      <td>76659.583333</td>\n",
       "    </tr>\n",
       "    <tr>\n",
       "      <th>...</th>\n",
       "      <td>...</td>\n",
       "      <td>...</td>\n",
       "    </tr>\n",
       "    <tr>\n",
       "      <th>95</th>\n",
       "      <td>Проект_95</td>\n",
       "      <td>87140.000000</td>\n",
       "    </tr>\n",
       "    <tr>\n",
       "      <th>96</th>\n",
       "      <td>Проект_96</td>\n",
       "      <td>83559.409091</td>\n",
       "    </tr>\n",
       "    <tr>\n",
       "      <th>97</th>\n",
       "      <td>Проект_97</td>\n",
       "      <td>84294.900000</td>\n",
       "    </tr>\n",
       "    <tr>\n",
       "      <th>98</th>\n",
       "      <td>Проект_98</td>\n",
       "      <td>88433.333333</td>\n",
       "    </tr>\n",
       "    <tr>\n",
       "      <th>99</th>\n",
       "      <td>Проект_99</td>\n",
       "      <td>83802.400000</td>\n",
       "    </tr>\n",
       "  </tbody>\n",
       "</table>\n",
       "<p>100 rows × 2 columns</p>\n",
       "</div>"
      ],
      "text/plain": [
       "   project_name        salary\n",
       "0      Проект_1  86304.750000\n",
       "1     Проект_10  85865.950000\n",
       "2    Проект_100  83132.260870\n",
       "3     Проект_11  88303.363636\n",
       "4     Проект_12  76659.583333\n",
       "..          ...           ...\n",
       "95    Проект_95  87140.000000\n",
       "96    Проект_96  83559.409091\n",
       "97    Проект_97  84294.900000\n",
       "98    Проект_98  88433.333333\n",
       "99    Проект_99  83802.400000\n",
       "\n",
       "[100 rows x 2 columns]"
      ]
     },
     "execution_count": 10,
     "metadata": {},
     "output_type": "execute_result"
    }
   ],
   "source": [
    "average_salary_per_project"
   ]
  },
  {
   "cell_type": "code",
   "execution_count": 18,
   "metadata": {},
   "outputs": [
    {
     "data": {
      "text/html": [
       "<div>\n",
       "<style scoped>\n",
       "    .dataframe tbody tr th:only-of-type {\n",
       "        vertical-align: middle;\n",
       "    }\n",
       "\n",
       "    .dataframe tbody tr th {\n",
       "        vertical-align: top;\n",
       "    }\n",
       "\n",
       "    .dataframe thead th {\n",
       "        text-align: right;\n",
       "    }\n",
       "</style>\n",
       "<table border=\"1\" class=\"dataframe\">\n",
       "  <thead>\n",
       "    <tr style=\"text-align: right;\">\n",
       "      <th></th>\n",
       "      <th>salary</th>\n",
       "    </tr>\n",
       "  </thead>\n",
       "  <tbody>\n",
       "    <tr>\n",
       "      <th>count</th>\n",
       "      <td>100.000000</td>\n",
       "    </tr>\n",
       "    <tr>\n",
       "      <th>mean</th>\n",
       "      <td>85434.189545</td>\n",
       "    </tr>\n",
       "    <tr>\n",
       "      <th>std</th>\n",
       "      <td>4282.348013</td>\n",
       "    </tr>\n",
       "    <tr>\n",
       "      <th>min</th>\n",
       "      <td>76212.043478</td>\n",
       "    </tr>\n",
       "    <tr>\n",
       "      <th>25%</th>\n",
       "      <td>83096.704581</td>\n",
       "    </tr>\n",
       "    <tr>\n",
       "      <th>50%</th>\n",
       "      <td>85113.334559</td>\n",
       "    </tr>\n",
       "    <tr>\n",
       "      <th>75%</th>\n",
       "      <td>87979.379371</td>\n",
       "    </tr>\n",
       "    <tr>\n",
       "      <th>max</th>\n",
       "      <td>100583.160000</td>\n",
       "    </tr>\n",
       "  </tbody>\n",
       "</table>\n",
       "</div>"
      ],
      "text/plain": [
       "              salary\n",
       "count     100.000000\n",
       "mean    85434.189545\n",
       "std      4282.348013\n",
       "min     76212.043478\n",
       "25%     83096.704581\n",
       "50%     85113.334559\n",
       "75%     87979.379371\n",
       "max    100583.160000"
      ]
     },
     "execution_count": 18,
     "metadata": {},
     "output_type": "execute_result"
    }
   ],
   "source": [
    "average_salary_per_project.describe()"
   ]
  },
  {
   "cell_type": "markdown",
   "metadata": {},
   "source": [
    "Так как данные были сгенерированы из uniform распределения, то статистики особенно не примечательные низкий разброс. смещение стремится к среднему (120к + 70к) / 2 - 85к"
   ]
  },
  {
   "cell_type": "markdown",
   "metadata": {
    "id": "9FoMjqupKsIf"
   },
   "source": [
    "### Шаг 6: Визуализация данных\n"
   ]
  },
  {
   "cell_type": "code",
   "execution_count": 16,
   "metadata": {},
   "outputs": [
    {
     "data": {
      "image/png": "[encoded data removed]",
      "text/plain": [
       "<Figure size 1000x600 with 1 Axes>"
      ]
     },
     "metadata": {},
     "output_type": "display_data"
    }
   ],
   "source": [
    "\n",
    "plt.figure(figsize=(10, 6))\n",
    "sns.boxplot(x='position', y='salary', data=final_merged_df)\n",
    "plt.title('Salary Distribution by Position')\n",
    "plt.xticks(rotation=45)\n",
    "plt.show()\n"
   ]
  },
  {
   "cell_type": "markdown",
   "metadata": {},
   "source": [
    "Зарплатные также имеют uniform распределение. Но в реальной жизни эта была ба достаточно интересная информация на которую было бы интересно взгляднуть. Особенно в разрезе разных грейдов и какие там бывает аномалии (макс и мин зп), ну и конечно интеркванительные размахи тоже были бы интересны"
   ]
  },
  {
   "cell_type": "markdown",
   "metadata": {},
   "source": [
    "Посмотрим на распределение бюджета"
   ]
  },
  {
   "cell_type": "code",
   "execution_count": 21,
   "metadata": {},
   "outputs": [
    {
     "data": {
      "text/plain": [
       "count      2000.000000\n",
       "mean     520533.187500\n",
       "std      256787.651532\n",
       "min      104123.000000\n",
       "25%      272744.000000\n",
       "50%      530303.000000\n",
       "75%      727086.000000\n",
       "max      995187.000000\n",
       "Name: budget, dtype: float64"
      ]
     },
     "execution_count": 21,
     "metadata": {},
     "output_type": "execute_result"
    }
   ],
   "source": [
    "budget_stats = final_merged_df['budget'].describe()\n",
    "budget_stats"
   ]
  },
  {
   "cell_type": "code",
   "execution_count": 23,
   "metadata": {},
   "outputs": [
    {
     "data": {
      "text/plain": [
       "project_manager\n",
       "Сотрудник_373     25044600\n",
       "Сотрудник_1645    21692550\n",
       "Сотрудник_433     20430050\n",
       "Сотрудник_1714    19713440\n",
       "Сотрудник_1463    19634936\n",
       "                    ...   \n",
       "Сотрудник_908      2188992\n",
       "Сотрудник_991      2106800\n",
       "Сотрудник_596      1850251\n",
       "Сотрудник_488      1834898\n",
       "Сотрудник_125      1595790\n",
       "Name: budget, Length: 98, dtype: int64"
      ]
     },
     "execution_count": 23,
     "metadata": {},
     "output_type": "execute_result"
    }
   ],
   "source": [
    "budget_by_manager = final_merged_df.groupby('project_manager')['budget'].sum().sort_values(ascending=False)\n",
    "budget_by_manager"
   ]
  },
  {
   "cell_type": "markdown",
   "metadata": {},
   "source": [
    "Распределение бюджета по проектным менеджерам"
   ]
  },
  {
   "cell_type": "code",
   "execution_count": 24,
   "metadata": {},
   "outputs": [
    {
     "data": {
      "image/png": "[encoded data removed]",
      "text/plain": [
       "<Figure size 1000x600 with 1 Axes>"
      ]
     },
     "metadata": {},
     "output_type": "display_data"
    }
   ],
   "source": [
    "\n",
    "plt.figure(figsize=(10, 6))\n",
    "budget_by_manager.plot(kind='bar')\n",
    "plt.title('Total Budget Allocation by Project Manager')\n",
    "plt.ylabel('Total Budget')\n",
    "plt.xticks(rotation=45)\n",
    "plt.show()\n"
   ]
  },
  {
   "cell_type": "markdown",
   "metadata": {},
   "source": [
    "Распределение сотрудников по должности"
   ]
  },
  {
   "cell_type": "code",
   "execution_count": null,
   "metadata": {},
   "outputs": [
    {
     "name": "stdout",
     "output_type": "stream",
     "text": [
      "position\n",
      "Разработчик    525\n",
      "Тестировщик    505\n",
      "Аналитик       486\n",
      "Менеджер       484\n",
      "Name: count, dtype: int64\n"
     ]
    },
    {
     "data": {
      "image/png": "[encoded data removed]",
      "text/plain": [
       "<Figure size 800x500 with 1 Axes>"
      ]
     },
     "metadata": {},
     "output_type": "display_data"
    }
   ],
   "source": [
    "position_distribution = final_merged_df['position'].value_counts()\n",
    "print(position_distribution)\n",
    "\n",
    "plt.figure(figsize=(8, 5))\n",
    "position_distribution.plot(kind='bar')\n",
    "plt.title('Employee Count by Position')\n",
    "plt.ylabel('Number of Employees')\n",
    "plt.xticks(rotation=45)\n",
    "plt.show()\n"
   ]
  },
  {
   "cell_type": "markdown",
   "metadata": {},
   "source": [
    "Корреляционный анализ"
   ]
  },
  {
   "cell_type": "code",
   "execution_count": 29,
   "metadata": {},
   "outputs": [
    {
     "name": "stdout",
     "output_type": "stream",
     "text": [
      "          salary    budget\n",
      "salary  1.000000  0.019995\n",
      "budget  0.019995  1.000000\n"
     ]
    },
    {
     "data": {
      "image/png": "[encoded data removed]",
      "text/plain": [
       "<Figure size 600x400 with 2 Axes>"
      ]
     },
     "metadata": {},
     "output_type": "display_data"
    }
   ],
   "source": [
    "correlation = final_merged_df[['salary', 'budget']].corr()\n",
    "print(correlation)\n",
    "\n",
    "# Visualization of correlation matrix\n",
    "plt.figure(figsize=(6, 4))\n",
    "sns.heatmap(correlation, annot=True, cmap='coolwarm')\n",
    "plt.title('Correlation between Salary and Budget')\n",
    "plt.show()\n"
   ]
  },
  {
   "cell_type": "markdown",
   "metadata": {
    "id": "UuE37VJ2LA0O"
   },
   "source": [
    "### Шаг 7: Сохранение консолидированных данных\n",
    "Сохраните консолидированные данные в CSV-файл:"
   ]
  },
  {
   "cell_type": "code",
   "execution_count": 64,
   "metadata": {
    "colab": {
     "base_uri": "https://localhost:8080/"
    },
    "id": "58lohakrLDUW",
    "outputId": "88dc5f6d-fa49-46cb-bb7b-ce024fd61b5a"
   },
   "outputs": [],
   "source": [
    "final_merged_df.to_csv('final_merged_df.csv', index=False)"
   ]
  },
  {
   "cell_type": "markdown",
   "metadata": {
    "id": "9AZhxIJgPJzW"
   },
   "source": [
    "**ИТОГ:**  Сгенерировали и объединили данные, рассчитали среднюю зарплату по каждому \n",
    "проекту, исходя из данных о сотрудниках и их участии в проектах"
   ]
  }
 ],
 "metadata": {
  "colab": {
   "provenance": []
  },
  "kernelspec": {
   "display_name": "venv",
   "language": "python",
   "name": "python3"
  },
  "language_info": {
   "codemirror_mode": {
    "name": "ipython",
    "version": 3
   },
   "file_extension": ".py",
   "mimetype": "text/x-python",
   "name": "python",
   "nbconvert_exporter": "python",
   "pygments_lexer": "ipython3",
   "version": "3.13.1"
  }
 },
 "nbformat": 4,
 "nbformat_minor": 0
}
