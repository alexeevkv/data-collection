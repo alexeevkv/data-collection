{
 "cells": [
  {
   "cell_type": "markdown",
   "metadata": {
    "id": "RGcbZxxOH5EH"
   },
   "source": [
    "# Практическая работа 3. Программные средства консолидации данных\n",
    "\n",
    "## Цель работы\n",
    "Освоить практические навыки консолидации данных из различных источников с использованием Python и библиотеки pandas.\n",
    "\n",
    "## Задачи\n",
    "1. Загрузить данные из различных источников (CSV, Excel, JSON).\n",
    "2. Провести предварительную обработку и очистку данных.\n",
    "3. Объединить данные из разных источников.\n",
    "4. Выполнить агрегацию и трансформацию данных.\n",
    "5. Сохранить консолидированные данные в новый файл.\n",
    "\n",
    "## Необходимое программное обеспечение\n",
    "- Python 3.x\n",
    "- Библиотеки: pandas, numpy, matplotlib\n",
    "\n",
    "## Исходные данные\n",
    "- `sales_2022.csv`: данные о продажах за 2022 год\n",
    "- `sales_2023.xlsx`: данные о продажах за 2023 год\n",
    "- `products.json`: информация о продуктах\n"
   ]
  },
  {
   "cell_type": "markdown",
   "metadata": {
    "id": "rrCNKG2ZII1s"
   },
   "source": [
    "## Ход работы"
   ]
  },
  {
   "cell_type": "markdown",
   "metadata": {
    "id": "wKifPGN0ILnu"
   },
   "source": [
    "Процесс создания тестовых данных для файлов\n",
    "- `sales_2022.csv`\n",
    "- `sales_2023.xlsx`\n",
    "- `products.json`\n"
   ]
  },
  {
   "cell_type": "code",
   "execution_count": 1,
   "metadata": {
    "id": "juFehJqiH1ET"
   },
   "outputs": [],
   "source": [
    "import pandas as pd\n",
    "import numpy as np\n",
    "import json\n",
    "from datetime import datetime, timedelta\n",
    "import random\n"
   ]
  },
  {
   "cell_type": "code",
   "execution_count": 2,
   "metadata": {
    "id": "3MMqaYqIImQ8"
   },
   "outputs": [],
   "source": [
    "# Функция для генерации случайной даты\n",
    "def random_date(start, end):\n",
    "    return start + timedelta(\n",
    "        seconds=random.randint(0, int((end - start).total_seconds()))\n",
    "    )"
   ]
  },
  {
   "cell_type": "markdown",
   "metadata": {
    "id": "j87BEfeLJA3p"
   },
   "source": [
    "1. Создание products.json:\n",
    "   - Мы определяем список категорий продуктов.\n",
    "   - Генерируем 100 уникальных продуктов с полями: product_id, name, category и price.\n",
    "   - Каждому продукту присваивается случайная категория и цена.\n",
    "   - Данные сохраняются в формате JSON с отступами для удобства чтения.\n"
   ]
  },
  {
   "cell_type": "code",
   "execution_count": 3,
   "metadata": {
    "colab": {
     "base_uri": "https://localhost:8080/"
    },
    "id": "9F5dwllZIqqM",
    "outputId": "543f054c-b76d-4a0d-f5c4-1a4a0b7b08d8"
   },
   "outputs": [
    {
     "name": "stdout",
     "output_type": "stream",
     "text": [
      "Файл products.json создан\n"
     ]
    }
   ],
   "source": [
    "# Генерация данных о продуктах\n",
    "product_categories = ['Электроника', 'Одежда', 'Книги', 'Продукты питания', 'Мебель']\n",
    "products = []\n",
    "\n",
    "for i in range(100):  # Генерируем 100 продуктов\n",
    "    product = {\n",
    "        'product_id': f'P{i:03d}',\n",
    "        'name': f'Продукт {i}',\n",
    "        'category': random.choice(product_categories),\n",
    "        'price': round(random.uniform(10, 1000), 2)\n",
    "    }\n",
    "    products.append(product)\n",
    "\n",
    "# Сохранение данных о продуктах в JSON\n",
    "with open('products.json', 'w', encoding='utf-8') as f:\n",
    "    json.dump(products, f, ensure_ascii=False, indent=4)\n",
    "\n",
    "print(\"Файл products.json создан\")\n",
    "\n"
   ]
  },
  {
   "cell_type": "markdown",
   "metadata": {
    "id": "2XlUNgeUJEod"
   },
   "source": [
    "2. Создание sales_2022.csv:\n",
    "   - Определяем период продаж с 1 января по 31 декабря 2022 года.\n",
    "   - Генерируем 10000 записей о продажах.\n",
    "   - Для каждой продажи случайным образом выбирается продукт из списка products.\n",
    "   - Генерируется случайная дата продажи в пределах 2022 года.\n",
    "   - Количество проданных единиц выбирается случайно от 1 до 10.\n",
    "   - Сумма продажи рассчитывается как произведение цены продукта на количество.\n",
    "   - Данные сохраняются в CSV формате.\n"
   ]
  },
  {
   "cell_type": "code",
   "execution_count": 4,
   "metadata": {
    "colab": {
     "base_uri": "https://localhost:8080/"
    },
    "id": "xO9l1LsCIwOX",
    "outputId": "3fa2b1d5-a445-4705-c3f1-6fdad41136ea"
   },
   "outputs": [
    {
     "name": "stdout",
     "output_type": "stream",
     "text": [
      "Файл sales_2022.csv создан\n"
     ]
    }
   ],
   "source": [
    "# Генерация данных о продажах за 2022 год\n",
    "sales_2022 = []\n",
    "start_date = datetime(2022, 1, 1)\n",
    "end_date = datetime(2022, 12, 31)\n",
    "\n",
    "for _ in range(10000):  # Генерируем 10000 записей о продажах\n",
    "    product = random.choice(products)\n",
    "    sale = {\n",
    "        'date': random_date(start_date, end_date).strftime('%Y-%m-%d'),\n",
    "        'product_id': product['product_id'],\n",
    "        'quantity': random.randint(1, 10),\n",
    "        'sales': round(product['price'] * random.randint(1, 10), 2)\n",
    "    }\n",
    "    sales_2022.append(sale)\n",
    "\n",
    "df_2022 = pd.DataFrame(sales_2022)\n",
    "df_2022.to_csv('sales_2022.csv', index=False)\n",
    "print(\"Файл sales_2022.csv создан\")\n"
   ]
  },
  {
   "cell_type": "markdown",
   "metadata": {
    "id": "tqqk2XtSJGzV"
   },
   "source": [
    "3. Создание sales_2023.xlsx:\n",
    "   - Процесс аналогичен созданию файла за 2022 год, но с некоторыми отличиями:\n",
    "   - Период продаж ограничен с 1 января по 30 сентября 2023 года (предполагая, что данные неполные).\n",
    "   - Генерируется большее количество записей (12000) для имитации роста продаж.\n",
    "   - Максимальное количество проданных единиц увеличено до 15 для создания вариативности.\n",
    "   - Данные сохраняются в формате Excel (xlsx).\n"
   ]
  },
  {
   "cell_type": "code",
   "execution_count": 5,
   "metadata": {
    "colab": {
     "base_uri": "https://localhost:8080/"
    },
    "id": "zN8ZNgVMIzxG",
    "outputId": "46cfd686-5067-4bba-b787-b2a19b92d6a7"
   },
   "outputs": [
    {
     "name": "stdout",
     "output_type": "stream",
     "text": [
      "Файл sales_2023.xlsx создан\n"
     ]
    }
   ],
   "source": [
    "# Генерация данных о продажах за 2023 год\n",
    "sales_2023 = []\n",
    "start_date = datetime(2023, 1, 1)\n",
    "end_date = datetime(2023, 9, 30)  # Предположим, что данные есть только до сентября 2023\n",
    "\n",
    "for _ in range(12000):  # Генерируем 12000 записей о продажах (больше, чем в 2022)\n",
    "    product = random.choice(products)\n",
    "    sale = {\n",
    "        'date': random_date(start_date, end_date).strftime('%Y-%m-%d'),\n",
    "        'product_id': product['product_id'],\n",
    "        'quantity': random.randint(1, 15),  # Увеличим максимальное количество\n",
    "        'sales': round(product['price'] * random.randint(1, 15), 2)\n",
    "    }\n",
    "    sales_2023.append(sale)\n",
    "\n",
    "df_2023 = pd.DataFrame(sales_2023)\n",
    "df_2023.to_excel('sales_2023.xlsx', index=False)\n",
    "print(\"Файл sales_2023.xlsx создан\")\n"
   ]
  },
  {
   "cell_type": "markdown",
   "metadata": {
    "id": "WMqOi45ZJKPW"
   },
   "source": [
    "Особенности сгенерированных данных:\n",
    "- Все файлы связаны между собой через поле product_id.\n",
    "- Данные имеют реалистичную структуру и вариативность.\n",
    "- В данных присутствуют различные типы полей: строковые (категории, ID), числовые (цены, количество), даты."
   ]
  },
  {
   "cell_type": "markdown",
   "metadata": {
    "id": "TBG7soLzJclT"
   },
   "source": [
    "### Шаг 1: Подготовка рабочей среды\n",
    "\n",
    "1. Создайте новый Python-скрипт `data_consolidation.py`.\n",
    "2. Импортируйте необходимые библиотеки:\n",
    "\n"
   ]
  },
  {
   "cell_type": "code",
   "execution_count": 7,
   "metadata": {
    "id": "tTq0rcZtJNqG"
   },
   "outputs": [],
   "source": [
    "import pandas as pd\n",
    "import numpy as np\n",
    "import matplotlib.pyplot as plt"
   ]
  },
  {
   "cell_type": "markdown",
   "metadata": {
    "id": "dqlsCfijJoMl"
   },
   "source": [
    "### Шаг 2: Загрузка данных\n",
    "1. Загрузите данные из CSV-файла:"
   ]
  },
  {
   "cell_type": "code",
   "execution_count": 8,
   "metadata": {
    "colab": {
     "base_uri": "https://localhost:8080/"
    },
    "id": "1tdaCp5GJo95",
    "outputId": "29cec71b-6ed4-4753-dce8-2b4b76c34c2a"
   },
   "outputs": [
    {
     "name": "stdout",
     "output_type": "stream",
     "text": [
      "Данные за 2022 год:\n",
      "         date product_id  quantity    sales\n",
      "0  2022-06-09       P049        10   838.08\n",
      "1  2022-06-26       P021         8  3060.90\n",
      "2  2022-01-25       P031         1    97.74\n",
      "3  2022-08-31       P063         1  2344.58\n",
      "4  2022-01-26       P095         7  1318.60\n"
     ]
    }
   ],
   "source": [
    "df_2022 = pd.read_csv('sales_2022.csv')\n",
    "print(\"Данные за 2022 год:\")\n",
    "print(df_2022.head())"
   ]
  },
  {
   "cell_type": "markdown",
   "metadata": {
    "id": "Ly23psrvJxBH"
   },
   "source": [
    "2. Загрузите данные из Excel-файла:"
   ]
  },
  {
   "cell_type": "code",
   "execution_count": 9,
   "metadata": {
    "colab": {
     "base_uri": "https://localhost:8080/"
    },
    "id": "D64JfCtrJz3O",
    "outputId": "cac1bde8-c3ad-4f8e-9a26-5eb82f98a1bc"
   },
   "outputs": [
    {
     "name": "stdout",
     "output_type": "stream",
     "text": [
      "\n",
      "Данные за 2023 год:\n",
      "         date product_id  quantity    sales\n",
      "0  2023-01-20       P065         8  7178.52\n",
      "1  2023-02-26       P045        13  2895.95\n",
      "2  2023-02-11       P065        10  2991.05\n",
      "3  2023-06-03       P062         2   697.05\n",
      "4  2023-01-20       P014         8   107.76\n"
     ]
    }
   ],
   "source": [
    "df_2023 = pd.read_excel('sales_2023.xlsx')\n",
    "print(\"\\nДанные за 2023 год:\")\n",
    "print(df_2023.head())"
   ]
  },
  {
   "cell_type": "markdown",
   "metadata": {
    "id": "50Rl1R2IJ3MI"
   },
   "source": [
    "3. Загрузите данные из JSON-файла:"
   ]
  },
  {
   "cell_type": "code",
   "execution_count": 10,
   "metadata": {
    "colab": {
     "base_uri": "https://localhost:8080/"
    },
    "id": "IuuD1-YXJ49W",
    "outputId": "9edab71e-74b7-4585-9639-aeb7b6f8981b"
   },
   "outputs": [
    {
     "name": "stdout",
     "output_type": "stream",
     "text": [
      "\n",
      "Данные о продуктах:\n",
      "  product_id       name          category   price\n",
      "0       P000  Продукт 0  Продукты питания   29.79\n",
      "1       P001  Продукт 1             Книги  549.39\n",
      "2       P002  Продукт 2            Мебель  177.75\n",
      "3       P003  Продукт 3            Одежда  220.37\n",
      "4       P004  Продукт 4            Одежда  661.62\n"
     ]
    }
   ],
   "source": [
    "df_products = pd.read_json('products.json')\n",
    "print(\"\\nДанные о продуктах:\")\n",
    "print(df_products.head())"
   ]
  },
  {
   "cell_type": "markdown",
   "metadata": {
    "id": "fKqey5q6J9op"
   },
   "source": [
    "### Шаг 3: Предварительная обработка и очистка данных\n",
    "1. Проверьте наличие пропущенных значений:"
   ]
  },
  {
   "cell_type": "code",
   "execution_count": 11,
   "metadata": {
    "colab": {
     "base_uri": "https://localhost:8080/"
    },
    "id": "glHIeyB9J-aJ",
    "outputId": "ae52977b-d26a-4dd4-acd0-74d575019ceb"
   },
   "outputs": [
    {
     "name": "stdout",
     "output_type": "stream",
     "text": [
      "\n",
      "Пропущенные значения:\n",
      "date          0\n",
      "product_id    0\n",
      "quantity      0\n",
      "sales         0\n",
      "dtype: int64\n",
      "date          0\n",
      "product_id    0\n",
      "quantity      0\n",
      "sales         0\n",
      "dtype: int64\n",
      "product_id    0\n",
      "name          0\n",
      "category      0\n",
      "price         0\n",
      "dtype: int64\n"
     ]
    }
   ],
   "source": [
    "print(\"\\nПропущенные значения:\")\n",
    "print(df_2022.isnull().sum())\n",
    "print(df_2023.isnull().sum())\n",
    "print(df_products.isnull().sum())"
   ]
  },
  {
   "cell_type": "markdown",
   "metadata": {
    "id": "r6dR-JRlKD5H"
   },
   "source": [
    "2. Обработайте пропущенные значения (пример для df_2022):"
   ]
  },
  {
   "cell_type": "code",
   "execution_count": 12,
   "metadata": {
    "id": "7q2L1CNdKIHe"
   },
   "outputs": [],
   "source": [
    "df_2022['sales'] = df_2022['sales'].fillna(df_2022['sales'].mean())"
   ]
  },
  {
   "cell_type": "markdown",
   "metadata": {
    "id": "K-EIo6tuKLf6"
   },
   "source": [
    "3. Приведите названия столбцов к единому формату:"
   ]
  },
  {
   "cell_type": "code",
   "execution_count": 13,
   "metadata": {
    "id": "4v8TLMVlKNYh"
   },
   "outputs": [],
   "source": [
    "df_2022.columns = df_2022.columns.str.lower()\n",
    "df_2023.columns = df_2023.columns.str.lower()\n",
    "df_products.columns = df_products.columns.str.lower()\n"
   ]
  },
  {
   "cell_type": "markdown",
   "metadata": {
    "id": "FHAyqq9TKPs_"
   },
   "source": [
    "### Шаг 4: Объединение данных\n",
    "1. Объедините данные о продажах за 2022 и 2023 годы:"
   ]
  },
  {
   "cell_type": "code",
   "execution_count": 14,
   "metadata": {
    "colab": {
     "base_uri": "https://localhost:8080/"
    },
    "id": "SqwD7r4aKRj0",
    "outputId": "f1f9313d-85a0-4e57-e11e-d8c7e01fba02"
   },
   "outputs": [
    {
     "name": "stdout",
     "output_type": "stream",
     "text": [
      "\n",
      "Объединенные данные о продажах:\n",
      "         date product_id  quantity    sales\n",
      "0  2022-06-09       P049        10   838.08\n",
      "1  2022-06-26       P021         8  3060.90\n",
      "2  2022-01-25       P031         1    97.74\n",
      "3  2022-08-31       P063         1  2344.58\n",
      "4  2022-01-26       P095         7  1318.60\n"
     ]
    }
   ],
   "source": [
    "df_sales = pd.concat([df_2022, df_2023], ignore_index=True)\n",
    "print(\"\\nОбъединенные данные о продажах:\")\n",
    "print(df_sales.head())"
   ]
  },
  {
   "cell_type": "markdown",
   "metadata": {
    "id": "vVouyvVdKW2v"
   },
   "source": [
    "2. Добавьте информацию о продуктах к данным о продажах:"
   ]
  },
  {
   "cell_type": "code",
   "execution_count": 15,
   "metadata": {
    "colab": {
     "base_uri": "https://localhost:8080/"
    },
    "id": "HYHN2c-oKYV1",
    "outputId": "9f0ff99d-c7f8-4f21-a93d-42cc10465858"
   },
   "outputs": [
    {
     "name": "stdout",
     "output_type": "stream",
     "text": [
      "\n",
      "Консолидированные данные:\n",
      "         date product_id  quantity    sales        name category   price\n",
      "0  2022-06-09       P049        10   838.08  Продукт 49   Одежда  209.52\n",
      "1  2022-06-26       P021         8  3060.90  Продукт 21   Мебель  306.09\n",
      "2  2022-01-25       P031         1    97.74  Продукт 31   Мебель   32.58\n",
      "3  2022-08-31       P063         1  2344.58  Продукт 63    Книги  334.94\n",
      "4  2022-01-26       P095         7  1318.60  Продукт 95   Мебель  263.72\n"
     ]
    }
   ],
   "source": [
    "df_consolidated = pd.merge(df_sales, df_products, on='product_id', how='left')\n",
    "print(\"\\nКонсолидированные данные:\")\n",
    "print(df_consolidated.head())"
   ]
  },
  {
   "cell_type": "markdown",
   "metadata": {
    "id": "jYpMB013KbEx"
   },
   "source": [
    "### Шаг 5: Агрегация и трансформация данных\n",
    "1. Рассчитайте общую сумму продаж по категориям продуктов:"
   ]
  },
  {
   "cell_type": "code",
   "execution_count": 16,
   "metadata": {
    "colab": {
     "base_uri": "https://localhost:8080/"
    },
    "id": "POzC1z2zKcmt",
    "outputId": "af3eebd9-4528-4c23-856d-1190d21a9e40"
   },
   "outputs": [
    {
     "name": "stdout",
     "output_type": "stream",
     "text": [
      "\n",
      "Общая сумма продаж по категориям:\n",
      "category\n",
      "Книги               17999642.83\n",
      "Электроника         15105121.21\n",
      "Одежда              14938893.00\n",
      "Мебель              12976715.60\n",
      "Продукты питания     7417990.45\n",
      "Name: sales, dtype: float64\n"
     ]
    }
   ],
   "source": [
    "sales_by_category = df_consolidated.groupby('category')['sales'].sum().sort_values(ascending=False)\n",
    "print(\"\\nОбщая сумма продаж по категориям:\")\n",
    "print(sales_by_category)"
   ]
  },
  {
   "cell_type": "markdown",
   "metadata": {
    "id": "4EPtLqJbKj9R"
   },
   "source": [
    "2. Создайте новый столбец с годом продажи:"
   ]
  },
  {
   "cell_type": "code",
   "execution_count": 17,
   "metadata": {
    "id": "aecPAqZJKkif"
   },
   "outputs": [],
   "source": [
    "df_consolidated['year'] = pd.to_datetime(df_consolidated['date']).dt.year"
   ]
  },
  {
   "cell_type": "markdown",
   "metadata": {
    "id": "3Mo6ehi4KmpN"
   },
   "source": [
    "3. Рассчитайте среднюю сумму продаж по годам:"
   ]
  },
  {
   "cell_type": "code",
   "execution_count": 18,
   "metadata": {
    "colab": {
     "base_uri": "https://localhost:8080/"
    },
    "id": "VWKgKHJDKomv",
    "outputId": "e7327da2-1ce1-475e-db76-9db371176cc1"
   },
   "outputs": [
    {
     "name": "stdout",
     "output_type": "stream",
     "text": [
      "\n",
      "Средняя сумма продаж по годам:\n",
      "year\n",
      "2022    2513.850737\n",
      "2023    3608.321310\n",
      "Name: sales, dtype: float64\n"
     ]
    }
   ],
   "source": [
    "avg_sales_by_year = df_consolidated.groupby('year')['sales'].mean()\n",
    "print(\"\\nСредняя сумма продаж по годам:\")\n",
    "print(avg_sales_by_year)"
   ]
  },
  {
   "cell_type": "markdown",
   "metadata": {
    "id": "9FoMjqupKsIf"
   },
   "source": [
    "### Шаг 6: Визуализация данных\n",
    "1. Создайте график продаж по категориям:"
   ]
  },
  {
   "cell_type": "code",
   "execution_count": null,
   "metadata": {
    "colab": {
     "base_uri": "https://localhost:8080/",
     "height": 607
    },
    "id": "XY4aSq7MKsm0",
    "outputId": "f1c4259c-61e4-4844-86d7-bfa0b5d51bb9"
   },
   "outputs": [
    {
     "data": {
      "image/png": "[encoded data removed]",
      "text/plain": [
       "<Figure size 1200x600 with 1 Axes>"
      ]
     },
     "metadata": {},
     "output_type": "display_data"
    }
   ],
   "source": [
    "plt.figure(figsize=(12, 6))\n",
    "sales_by_category.plot(kind='bar')\n",
    "plt.title('Общая сумма продаж по категориям')\n",
    "plt.xlabel('Категория')\n",
    "plt.ylabel('Сумма продаж')\n",
    "plt.tight_layout()\n",
    "plt.savefig('sales_by_category.png')\n"
   ]
  },
  {
   "cell_type": "markdown",
   "metadata": {
    "id": "KG06oSx0K5iu"
   },
   "source": [
    "2. Создайте график средних продаж по годам:"
   ]
  },
  {
   "cell_type": "code",
   "execution_count": null,
   "metadata": {
    "colab": {
     "base_uri": "https://localhost:8080/",
     "height": 507
    },
    "id": "qwneeFeAK7vc",
    "outputId": "264288a1-1f46-4477-f665-9eaf97413961"
   },
   "outputs": [
    {
     "data": {
      "image/png": "[encoded data removed]",
      "text/plain": [
       "<Figure size 1000x500 with 1 Axes>"
      ]
     },
     "metadata": {},
     "output_type": "display_data"
    }
   ],
   "source": [
    "plt.figure(figsize=(10, 5))\n",
    "avg_sales_by_year.plot(kind='line', marker='o')\n",
    "plt.title('Средняя сумма продаж по годам')\n",
    "plt.xlabel('Год')\n",
    "plt.ylabel('Средняя сумма продаж')\n",
    "plt.tight_layout()\n",
    "plt.savefig('avg_sales_by_year.png')"
   ]
  },
  {
   "cell_type": "markdown",
   "metadata": {
    "id": "UuE37VJ2LA0O"
   },
   "source": [
    "### Шаг 7: Сохранение консолидированных данных\n",
    "Сохраните консолидированные данные в CSV-файл:"
   ]
  },
  {
   "cell_type": "code",
   "execution_count": 19,
   "metadata": {
    "colab": {
     "base_uri": "https://localhost:8080/"
    },
    "id": "58lohakrLDUW",
    "outputId": "0ed505bd-f4d9-42e5-aa8e-ac58eb309b26"
   },
   "outputs": [
    {
     "name": "stdout",
     "output_type": "stream",
     "text": [
      "\n",
      "Консолидированные данные сохранены в файл 'consolidated_sales_data.csv'\n"
     ]
    }
   ],
   "source": [
    "df_consolidated.to_csv('consolidated_sales_data.csv', index=False)\n",
    "print(\"\\nКонсолидированные данные сохранены в файл 'consolidated_sales_data.csv'\")"
   ]
  }
 ],
 "metadata": {
  "colab": {
   "provenance": []
  },
  "kernelspec": {
   "display_name": "Python 3",
   "name": "python3"
  },
  "language_info": {
   "name": "python"
  }
 },
 "nbformat": 4,
 "nbformat_minor": 0
}
