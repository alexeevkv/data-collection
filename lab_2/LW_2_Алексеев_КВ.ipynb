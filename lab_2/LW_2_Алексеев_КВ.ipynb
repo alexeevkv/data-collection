{
 "cells": [
  {
   "cell_type": "markdown",
   "id": "9cc6efbf-6f84-443f-8295-542fd608e5f3",
   "metadata": {
    "id": "9cc6efbf-6f84-443f-8295-542fd608e5f3"
   },
   "source": [
    "**Алексеев Константин, БД-231м**\n",
    "\n",
    "**Лабораторная работа 2**"
   ]
  },
  {
   "cell_type": "markdown",
   "id": "31ba8c27-e33a-4f53-803f-379c0ffe72a3",
   "metadata": {
    "id": "31ba8c27-e33a-4f53-803f-379c0ffe72a3"
   },
   "source": [
    "# Парсинг HTML. XPath+Selenium"
   ]
  },
  {
   "cell_type": "markdown",
   "id": "0346a5f5-5240-480b-b9f1-48ba80c6242d",
   "metadata": {
    "id": "0346a5f5-5240-480b-b9f1-48ba80c6242d"
   },
   "source": [
    "**Источник:**'https://www.insurancejournal.com/top-100-insurance-agencies/"
   ]
  },
  {
   "cell_type": "markdown",
   "id": "f3f2e762-7552-4c1f-a908-1a28589ed75a",
   "metadata": {
    "id": "f3f2e762-7552-4c1f-a908-1a28589ed75a"
   },
   "source": [
    "**Цель работы:** освоение техники парсинга HTML-страниц с помощью\n",
    "библиотеки BeautifulSoup в языке программирования Python для сбора, консолидации и\n",
    "аналитической обработки информации."
   ]
  },
  {
   "cell_type": "markdown",
   "id": "gSvOWf1yOCub",
   "metadata": {
    "id": "gSvOWf1yOCub"
   },
   "source": [
    "1. Импорт необходимых библиотек"
   ]
  },
  {
   "cell_type": "code",
   "execution_count": 29,
   "id": "4fa0a158-139a-4e64-8428-1cffc5d74de8",
   "metadata": {
    "id": "4fa0a158-139a-4e64-8428-1cffc5d74de8"
   },
   "outputs": [],
   "source": [
    "import requests\n",
    "from lxml import html\n",
    "import pandas as pd\n",
    "import matplotlib.pyplot as plt\n",
    "import seaborn as sns\n",
    "import numpy as np"
   ]
  },
  {
   "cell_type": "markdown",
   "id": "NV3KLPnfOOd1",
   "metadata": {
    "id": "NV3KLPnfOOd1"
   },
   "source": [
    "2. Отправка GET-запроса к целевому URL\n",
    "\n"
   ]
  },
  {
   "cell_type": "code",
   "execution_count": 2,
   "id": "73ceee30-b30b-4a4e-ae94-a610e1465a3f",
   "metadata": {
    "id": "73ceee30-b30b-4a4e-ae94-a610e1465a3f"
   },
   "outputs": [],
   "source": [
    "url = 'https://www.insurancejournal.com/top-100-insurance-agencies/'\n",
    "headers = {'User-Agent': 'Mozilla/5.0 (Windows NT 10.0; Win64; x64) AppleWebKit/537.36 (KHTML, like Gecko) Chrome/91.0.4472.124 Safari/537.36'}\n",
    "response = requests.get(url, headers=headers)\n",
    "if response.status_code == 200:\n",
    " page_content = response.content\n",
    "else:\n",
    " print(f\"Ошибка при получении страницы: {response.status_code}\")\n",
    " exit()"
   ]
  },
  {
   "cell_type": "markdown",
   "id": "9kj7fyVSOihx",
   "metadata": {
    "id": "9kj7fyVSOihx"
   },
   "source": [
    "3. Парсинг HTML-страницы с использованием lxml:"
   ]
  },
  {
   "cell_type": "code",
   "execution_count": 14,
   "id": "0cca1c31-2ae0-41f1-a082-aafc8bb656cf",
   "metadata": {
    "colab": {
     "base_uri": "https://localhost:8080/"
    },
    "id": "0cca1c31-2ae0-41f1-a082-aafc8bb656cf",
    "outputId": "f6b1dea3-d088-453e-f2d8-e6f56e9702ea"
   },
   "outputs": [
    {
     "data": {
      "text/plain": [
       "<Element html at 0x78b5f6c2c5e0>"
      ]
     },
     "execution_count": 14,
     "metadata": {},
     "output_type": "execute_result"
    }
   ],
   "source": [
    "tree = html.fromstring(page_content)\n",
    "tree"
   ]
  },
  {
   "cell_type": "markdown",
   "id": "DjDRz-LtOnmh",
   "metadata": {
    "id": "DjDRz-LtOnmh"
   },
   "source": [
    "4. Использование XPath для извлечения данных"
   ]
  },
  {
   "cell_type": "code",
   "execution_count": 15,
   "id": "z-9cv3Ba5Bpr",
   "metadata": {
    "id": "z-9cv3Ba5Bpr"
   },
   "outputs": [],
   "source": [
    "agency_items = tree.xpath('//div[@class=\"rankings-agency-list-item\"]')\n",
    "\n",
    "ranks = []\n",
    "agency_names = []\n",
    "pc_revenues = []\n",
    "other_revenues = []\n",
    "offices = []\n",
    "\n",
    "# Проходим по каждому агентству и извлекаем его данные\n",
    "for item in agency_items:\n",
    "    # Извлечение ранга\n",
    "    rank = item.xpath('.//div[@class=\"agency-rank\"]/text()')\n",
    "    ranks.append(rank[0].strip() if rank else None)\n",
    "\n",
    "    # Извлечение названия агентства\n",
    "    name = item.xpath('.//h3[@class=\"agency-name\"]/text()')\n",
    "    agency_names.append(name[0].strip() if name else None)\n",
    "\n",
    "    # Извлечение P/C Revenue\n",
    "    pc_revenue = item.xpath('.//p[@class=\"agency-meta-item agency-revenue\"]/text()[normalize-space()]')\n",
    "    pc_revenues.append(pc_revenue[0].strip() if pc_revenue else None)\n",
    "\n",
    "    # Извлечение Other Revenue\n",
    "    other_revenue = item.xpath('.//p[@class=\"agency-meta-item agency-other-revenue\"]/text()[normalize-space()]')\n",
    "    other_revenues.append(other_revenue[0].strip() if other_revenue else None)\n",
    "\n",
    "    # Извлечение офиса\n",
    "    office = item.xpath('.//p[@class=\"agency-meta-item agency-office\"]/text()[normalize-space()]')\n",
    "    offices.append(office[0].strip() if office else None)\n"
   ]
  },
  {
   "cell_type": "markdown",
   "id": "HCMOYOcrOv3G",
   "metadata": {
    "id": "HCMOYOcrOv3G"
   },
   "source": [
    "5. Cоздание DataFrame"
   ]
  },
  {
   "cell_type": "code",
   "execution_count": 18,
   "id": "ccec5f90-2c14-4cc6-b9d5-5982196d9ce7",
   "metadata": {
    "colab": {
     "base_uri": "https://localhost:8080/",
     "height": 423
    },
    "id": "ccec5f90-2c14-4cc6-b9d5-5982196d9ce7",
    "outputId": "d09a91af-3621-4594-d484-9c664e8598a3",
    "scrolled": true
   },
   "outputs": [
    {
     "data": {
      "application/vnd.google.colaboratory.intrinsic+json": {
       "summary": "{\n  \"name\": \"df\",\n  \"rows\": 100,\n  \"fields\": [\n    {\n      \"column\": \"Rank\",\n      \"properties\": {\n        \"dtype\": \"string\",\n        \"num_unique_values\": 100,\n        \"samples\": [\n          \"84\",\n          \"54\",\n          \"71\"\n        ],\n        \"semantic_type\": \"\",\n        \"description\": \"\"\n      }\n    },\n    {\n      \"column\": \"Agency Name\",\n      \"properties\": {\n        \"dtype\": \"string\",\n        \"num_unique_values\": 100,\n        \"samples\": [\n          \"The Daniel and Henry Co.\",\n          \"Rich & Cartmill Inc.\",\n          \"JMG Insurance Corp.\"\n        ],\n        \"semantic_type\": \"\",\n        \"description\": \"\"\n      }\n    },\n    {\n      \"column\": \"P/C Revenue\",\n      \"properties\": {\n        \"dtype\": \"string\",\n        \"num_unique_values\": 100,\n        \"samples\": [\n          \"$23,777,000\",\n          \"$48,689,086\",\n          \"$36,875,999\"\n        ],\n        \"semantic_type\": \"\",\n        \"description\": \"\"\n      }\n    },\n    {\n      \"column\": \"Other Revenue\",\n      \"properties\": {\n        \"dtype\": \"string\",\n        \"num_unique_values\": 92,\n        \"samples\": [\n          \"$37,285,142\",\n          \"$51,000,000\",\n          \"$28,177,000\"\n        ],\n        \"semantic_type\": \"\",\n        \"description\": \"\"\n      }\n    },\n    {\n      \"column\": \"Office\",\n      \"properties\": {\n        \"dtype\": \"string\",\n        \"num_unique_values\": 88,\n        \"samples\": [\n          \"Needham, Massachusetts\",\n          \"Irvine, California\",\n          \"Gainesville, Florida\"\n        ],\n        \"semantic_type\": \"\",\n        \"description\": \"\"\n      }\n    }\n  ]\n}",
       "type": "dataframe",
       "variable_name": "df"
      },
      "text/html": [
       "\n",
       "  <div id=\"df-4eb1be81-b905-4d60-b201-ff4dea48268e\" class=\"colab-df-container\">\n",
       "    <div>\n",
       "<style scoped>\n",
       "    .dataframe tbody tr th:only-of-type {\n",
       "        vertical-align: middle;\n",
       "    }\n",
       "\n",
       "    .dataframe tbody tr th {\n",
       "        vertical-align: top;\n",
       "    }\n",
       "\n",
       "    .dataframe thead th {\n",
       "        text-align: right;\n",
       "    }\n",
       "</style>\n",
       "<table border=\"1\" class=\"dataframe\">\n",
       "  <thead>\n",
       "    <tr style=\"text-align: right;\">\n",
       "      <th></th>\n",
       "      <th>Rank</th>\n",
       "      <th>Agency Name</th>\n",
       "      <th>P/C Revenue</th>\n",
       "      <th>Other Revenue</th>\n",
       "      <th>Office</th>\n",
       "    </tr>\n",
       "  </thead>\n",
       "  <tbody>\n",
       "    <tr>\n",
       "      <th>0</th>\n",
       "      <td>1</td>\n",
       "      <td>Alliant Insurance Services/Confie</td>\n",
       "      <td>$2,791,081,357</td>\n",
       "      <td>$1,127,643,532</td>\n",
       "      <td>Irvine, California</td>\n",
       "    </tr>\n",
       "    <tr>\n",
       "      <th>1</th>\n",
       "      <td>2</td>\n",
       "      <td>Acrisure LLC</td>\n",
       "      <td>$2,731,289,283</td>\n",
       "      <td>$305,608,697</td>\n",
       "      <td>Grand Rapids, Michigan</td>\n",
       "    </tr>\n",
       "    <tr>\n",
       "      <th>2</th>\n",
       "      <td>3</td>\n",
       "      <td>HUB International Ltd.</td>\n",
       "      <td>$2,602,873,000</td>\n",
       "      <td>$1,701,966,000</td>\n",
       "      <td>Chicago, Illinois</td>\n",
       "    </tr>\n",
       "    <tr>\n",
       "      <th>3</th>\n",
       "      <td>4</td>\n",
       "      <td>Lockton</td>\n",
       "      <td>$2,143,306,000</td>\n",
       "      <td>$625,054,000</td>\n",
       "      <td>Kansas City, Missouri</td>\n",
       "    </tr>\n",
       "    <tr>\n",
       "      <th>4</th>\n",
       "      <td>5</td>\n",
       "      <td>AssuredPartners</td>\n",
       "      <td>$1,813,550,941</td>\n",
       "      <td>$859,893,000</td>\n",
       "      <td>Orlando, Florida</td>\n",
       "    </tr>\n",
       "    <tr>\n",
       "      <th>...</th>\n",
       "      <td>...</td>\n",
       "      <td>...</td>\n",
       "      <td>...</td>\n",
       "      <td>...</td>\n",
       "      <td>...</td>\n",
       "    </tr>\n",
       "    <tr>\n",
       "      <th>95</th>\n",
       "      <td>96</td>\n",
       "      <td>Beehive Insurance Agency Inc.</td>\n",
       "      <td>$17,628,364</td>\n",
       "      <td>$5,202,740</td>\n",
       "      <td>Salt Lake City, Utah</td>\n",
       "    </tr>\n",
       "    <tr>\n",
       "      <th>96</th>\n",
       "      <td>97</td>\n",
       "      <td>Dean &amp; Draper Insurance Agency LP</td>\n",
       "      <td>$17,196,037</td>\n",
       "      <td>$3,021,966</td>\n",
       "      <td>Houston, Texas</td>\n",
       "    </tr>\n",
       "    <tr>\n",
       "      <th>97</th>\n",
       "      <td>98</td>\n",
       "      <td>Morris &amp; Garritano</td>\n",
       "      <td>$16,149,992</td>\n",
       "      <td>$13,223,179</td>\n",
       "      <td>San Luis Obispo, California</td>\n",
       "    </tr>\n",
       "    <tr>\n",
       "      <th>98</th>\n",
       "      <td>99</td>\n",
       "      <td>Ori-gen Insurance Group</td>\n",
       "      <td>$15,303,945</td>\n",
       "      <td>$3,837,922</td>\n",
       "      <td>Cypress, California</td>\n",
       "    </tr>\n",
       "    <tr>\n",
       "      <th>99</th>\n",
       "      <td>100</td>\n",
       "      <td>Mackoul Risk Solutions LLC</td>\n",
       "      <td>$14,267,740</td>\n",
       "      <td>$458,403</td>\n",
       "      <td>Long Beach, New York</td>\n",
       "    </tr>\n",
       "  </tbody>\n",
       "</table>\n",
       "<p>100 rows × 5 columns</p>\n",
       "</div>\n",
       "    <div class=\"colab-df-buttons\">\n",
       "\n",
       "  <div class=\"colab-df-container\">\n",
       "    <button class=\"colab-df-convert\" onclick=\"convertToInteractive('df-4eb1be81-b905-4d60-b201-ff4dea48268e')\"\n",
       "            title=\"Convert this dataframe to an interactive table.\"\n",
       "            style=\"display:none;\">\n",
       "\n",
       "  <svg xmlns=\"http://www.w3.org/2000/svg\" height=\"24px\" viewBox=\"0 -960 960 960\">\n",
       "    <path d=\"M120-120v-720h720v720H120Zm60-500h600v-160H180v160Zm220 220h160v-160H400v160Zm0 220h160v-160H400v160ZM180-400h160v-160H180v160Zm440 0h160v-160H620v160ZM180-180h160v-160H180v160Zm440 0h160v-160H620v160Z\"/>\n",
       "  </svg>\n",
       "    </button>\n",
       "\n",
       "  <style>\n",
       "    .colab-df-container {\n",
       "      display:flex;\n",
       "      gap: 12px;\n",
       "    }\n",
       "\n",
       "    .colab-df-convert {\n",
       "      background-color: #E8F0FE;\n",
       "      border: none;\n",
       "      border-radius: 50%;\n",
       "      cursor: pointer;\n",
       "      display: none;\n",
       "      fill: #1967D2;\n",
       "      height: 32px;\n",
       "      padding: 0 0 0 0;\n",
       "      width: 32px;\n",
       "    }\n",
       "\n",
       "    .colab-df-convert:hover {\n",
       "      background-color: #E2EBFA;\n",
       "      box-shadow: 0px 1px 2px rgba(60, 64, 67, 0.3), 0px 1px 3px 1px rgba(60, 64, 67, 0.15);\n",
       "      fill: #174EA6;\n",
       "    }\n",
       "\n",
       "    .colab-df-buttons div {\n",
       "      margin-bottom: 4px;\n",
       "    }\n",
       "\n",
       "    [theme=dark] .colab-df-convert {\n",
       "      background-color: #3B4455;\n",
       "      fill: #D2E3FC;\n",
       "    }\n",
       "\n",
       "    [theme=dark] .colab-df-convert:hover {\n",
       "      background-color: #434B5C;\n",
       "      box-shadow: 0px 1px 3px 1px rgba(0, 0, 0, 0.15);\n",
       "      filter: drop-shadow(0px 1px 2px rgba(0, 0, 0, 0.3));\n",
       "      fill: #FFFFFF;\n",
       "    }\n",
       "  </style>\n",
       "\n",
       "    <script>\n",
       "      const buttonEl =\n",
       "        document.querySelector('#df-4eb1be81-b905-4d60-b201-ff4dea48268e button.colab-df-convert');\n",
       "      buttonEl.style.display =\n",
       "        google.colab.kernel.accessAllowed ? 'block' : 'none';\n",
       "\n",
       "      async function convertToInteractive(key) {\n",
       "        const element = document.querySelector('#df-4eb1be81-b905-4d60-b201-ff4dea48268e');\n",
       "        const dataTable =\n",
       "          await google.colab.kernel.invokeFunction('convertToInteractive',\n",
       "                                                    [key], {});\n",
       "        if (!dataTable) return;\n",
       "\n",
       "        const docLinkHtml = 'Like what you see? Visit the ' +\n",
       "          '<a target=\"_blank\" href=https://colab.research.google.com/notebooks/data_table.ipynb>data table notebook</a>'\n",
       "          + ' to learn more about interactive tables.';\n",
       "        element.innerHTML = '';\n",
       "        dataTable['output_type'] = 'display_data';\n",
       "        await google.colab.output.renderOutput(dataTable, element);\n",
       "        const docLink = document.createElement('div');\n",
       "        docLink.innerHTML = docLinkHtml;\n",
       "        element.appendChild(docLink);\n",
       "      }\n",
       "    </script>\n",
       "  </div>\n",
       "\n",
       "\n",
       "<div id=\"df-934f3384-def0-4c35-834f-8345b0e34dba\">\n",
       "  <button class=\"colab-df-quickchart\" onclick=\"quickchart('df-934f3384-def0-4c35-834f-8345b0e34dba')\"\n",
       "            title=\"Suggest charts\"\n",
       "            style=\"display:none;\">\n",
       "\n",
       "<svg xmlns=\"http://www.w3.org/2000/svg\" height=\"24px\"viewBox=\"0 0 24 24\"\n",
       "     width=\"24px\">\n",
       "    <g>\n",
       "        <path d=\"M19 3H5c-1.1 0-2 .9-2 2v14c0 1.1.9 2 2 2h14c1.1 0 2-.9 2-2V5c0-1.1-.9-2-2-2zM9 17H7v-7h2v7zm4 0h-2V7h2v10zm4 0h-2v-4h2v4z\"/>\n",
       "    </g>\n",
       "</svg>\n",
       "  </button>\n",
       "\n",
       "<style>\n",
       "  .colab-df-quickchart {\n",
       "      --bg-color: #E8F0FE;\n",
       "      --fill-color: #1967D2;\n",
       "      --hover-bg-color: #E2EBFA;\n",
       "      --hover-fill-color: #174EA6;\n",
       "      --disabled-fill-color: #AAA;\n",
       "      --disabled-bg-color: #DDD;\n",
       "  }\n",
       "\n",
       "  [theme=dark] .colab-df-quickchart {\n",
       "      --bg-color: #3B4455;\n",
       "      --fill-color: #D2E3FC;\n",
       "      --hover-bg-color: #434B5C;\n",
       "      --hover-fill-color: #FFFFFF;\n",
       "      --disabled-bg-color: #3B4455;\n",
       "      --disabled-fill-color: #666;\n",
       "  }\n",
       "\n",
       "  .colab-df-quickchart {\n",
       "    background-color: var(--bg-color);\n",
       "    border: none;\n",
       "    border-radius: 50%;\n",
       "    cursor: pointer;\n",
       "    display: none;\n",
       "    fill: var(--fill-color);\n",
       "    height: 32px;\n",
       "    padding: 0;\n",
       "    width: 32px;\n",
       "  }\n",
       "\n",
       "  .colab-df-quickchart:hover {\n",
       "    background-color: var(--hover-bg-color);\n",
       "    box-shadow: 0 1px 2px rgba(60, 64, 67, 0.3), 0 1px 3px 1px rgba(60, 64, 67, 0.15);\n",
       "    fill: var(--button-hover-fill-color);\n",
       "  }\n",
       "\n",
       "  .colab-df-quickchart-complete:disabled,\n",
       "  .colab-df-quickchart-complete:disabled:hover {\n",
       "    background-color: var(--disabled-bg-color);\n",
       "    fill: var(--disabled-fill-color);\n",
       "    box-shadow: none;\n",
       "  }\n",
       "\n",
       "  .colab-df-spinner {\n",
       "    border: 2px solid var(--fill-color);\n",
       "    border-color: transparent;\n",
       "    border-bottom-color: var(--fill-color);\n",
       "    animation:\n",
       "      spin 1s steps(1) infinite;\n",
       "  }\n",
       "\n",
       "  @keyframes spin {\n",
       "    0% {\n",
       "      border-color: transparent;\n",
       "      border-bottom-color: var(--fill-color);\n",
       "      border-left-color: var(--fill-color);\n",
       "    }\n",
       "    20% {\n",
       "      border-color: transparent;\n",
       "      border-left-color: var(--fill-color);\n",
       "      border-top-color: var(--fill-color);\n",
       "    }\n",
       "    30% {\n",
       "      border-color: transparent;\n",
       "      border-left-color: var(--fill-color);\n",
       "      border-top-color: var(--fill-color);\n",
       "      border-right-color: var(--fill-color);\n",
       "    }\n",
       "    40% {\n",
       "      border-color: transparent;\n",
       "      border-right-color: var(--fill-color);\n",
       "      border-top-color: var(--fill-color);\n",
       "    }\n",
       "    60% {\n",
       "      border-color: transparent;\n",
       "      border-right-color: var(--fill-color);\n",
       "    }\n",
       "    80% {\n",
       "      border-color: transparent;\n",
       "      border-right-color: var(--fill-color);\n",
       "      border-bottom-color: var(--fill-color);\n",
       "    }\n",
       "    90% {\n",
       "      border-color: transparent;\n",
       "      border-bottom-color: var(--fill-color);\n",
       "    }\n",
       "  }\n",
       "</style>\n",
       "\n",
       "  <script>\n",
       "    async function quickchart(key) {\n",
       "      const quickchartButtonEl =\n",
       "        document.querySelector('#' + key + ' button');\n",
       "      quickchartButtonEl.disabled = true;  // To prevent multiple clicks.\n",
       "      quickchartButtonEl.classList.add('colab-df-spinner');\n",
       "      try {\n",
       "        const charts = await google.colab.kernel.invokeFunction(\n",
       "            'suggestCharts', [key], {});\n",
       "      } catch (error) {\n",
       "        console.error('Error during call to suggestCharts:', error);\n",
       "      }\n",
       "      quickchartButtonEl.classList.remove('colab-df-spinner');\n",
       "      quickchartButtonEl.classList.add('colab-df-quickchart-complete');\n",
       "    }\n",
       "    (() => {\n",
       "      let quickchartButtonEl =\n",
       "        document.querySelector('#df-934f3384-def0-4c35-834f-8345b0e34dba button');\n",
       "      quickchartButtonEl.style.display =\n",
       "        google.colab.kernel.accessAllowed ? 'block' : 'none';\n",
       "    })();\n",
       "  </script>\n",
       "</div>\n",
       "    </div>\n",
       "  </div>\n"
      ],
      "text/plain": [
       "   Rank                        Agency Name     P/C Revenue   Other Revenue  \\\n",
       "0     1  Alliant Insurance Services/Confie  $2,791,081,357  $1,127,643,532   \n",
       "1     2                       Acrisure LLC  $2,731,289,283    $305,608,697   \n",
       "2     3             HUB International Ltd.  $2,602,873,000  $1,701,966,000   \n",
       "3     4                            Lockton  $2,143,306,000    $625,054,000   \n",
       "4     5                    AssuredPartners  $1,813,550,941    $859,893,000   \n",
       "..  ...                                ...             ...             ...   \n",
       "95   96      Beehive Insurance Agency Inc.     $17,628,364      $5,202,740   \n",
       "96   97  Dean & Draper Insurance Agency LP     $17,196,037      $3,021,966   \n",
       "97   98                 Morris & Garritano     $16,149,992     $13,223,179   \n",
       "98   99            Ori-gen Insurance Group     $15,303,945      $3,837,922   \n",
       "99  100         Mackoul Risk Solutions LLC     $14,267,740        $458,403   \n",
       "\n",
       "                         Office  \n",
       "0            Irvine, California  \n",
       "1        Grand Rapids, Michigan  \n",
       "2             Chicago, Illinois  \n",
       "3         Kansas City, Missouri  \n",
       "4              Orlando, Florida  \n",
       "..                          ...  \n",
       "95         Salt Lake City, Utah  \n",
       "96               Houston, Texas  \n",
       "97  San Luis Obispo, California  \n",
       "98          Cypress, California  \n",
       "99         Long Beach, New York  \n",
       "\n",
       "[100 rows x 5 columns]"
      ]
     },
     "execution_count": 18,
     "metadata": {},
     "output_type": "execute_result"
    }
   ],
   "source": [
    "# Создание DataFrame\n",
    "data = {\n",
    "    'Rank': ranks,\n",
    "    'Agency Name': agency_names,\n",
    "    'P/C Revenue': pc_revenues,\n",
    "    'Other Revenue': other_revenues,\n",
    "    'Office': offices\n",
    "}\n",
    "\n",
    "df = pd.DataFrame(data)\n",
    "df"
   ]
  },
  {
   "cell_type": "markdown",
   "id": "KxnWTHhK7bmz",
   "metadata": {
    "id": "KxnWTHhK7bmz"
   },
   "source": [
    "6. Предобработка данных. Преобразуем строковые значения в числовые для возможности\n",
    "проведения математических операций."
   ]
  },
  {
   "cell_type": "code",
   "execution_count": 19,
   "id": "E6720P2p7q0N",
   "metadata": {
    "id": "E6720P2p7q0N"
   },
   "outputs": [],
   "source": [
    "df['P/C Revenue'] = df['P/C Revenue'].str.replace('$', '')\n",
    "df['Other Revenue'] = df['Other Revenue'].str.replace('$', '')\n",
    "df['P/C Revenue'] = df['P/C Revenue'].str.replace(',', '')\n",
    "df['Other Revenue'] = df['Other Revenue'].str.replace(',', '')\n",
    "df['P/C Revenue'] = pd.to_numeric(df['P/C Revenue'], errors='coerce')\n",
    "df['Other Revenue'] = pd.to_numeric(df['Other Revenue'], errors='coerce')"
   ]
  },
  {
   "cell_type": "code",
   "execution_count": 20,
   "id": "PW0gd-RQ91-b",
   "metadata": {
    "colab": {
     "base_uri": "https://localhost:8080/"
    },
    "id": "PW0gd-RQ91-b",
    "outputId": "0f8602dc-7902-4dc9-f32a-7780191f43cf"
   },
   "outputs": [
    {
     "name": "stdout",
     "output_type": "stream",
     "text": [
      "<class 'pandas.core.frame.DataFrame'>\n",
      "RangeIndex: 100 entries, 0 to 99\n",
      "Data columns (total 5 columns):\n",
      " #   Column         Non-Null Count  Dtype  \n",
      "---  ------         --------------  -----  \n",
      " 0   Rank           100 non-null    object \n",
      " 1   Agency Name    100 non-null    object \n",
      " 2   P/C Revenue    100 non-null    int64  \n",
      " 3   Other Revenue  92 non-null     float64\n",
      " 4   Office         100 non-null    object \n",
      "dtypes: float64(1), int64(1), object(3)\n",
      "memory usage: 4.0+ KB\n"
     ]
    }
   ],
   "source": [
    "df.info()"
   ]
  },
  {
   "cell_type": "code",
   "execution_count": 21,
   "id": "40WtNK3395PX",
   "metadata": {
    "colab": {
     "base_uri": "https://localhost:8080/",
     "height": 206
    },
    "id": "40WtNK3395PX",
    "outputId": "52b4e823-71e7-4453-8d95-a900c3e375f6"
   },
   "outputs": [
    {
     "data": {
      "application/vnd.google.colaboratory.intrinsic+json": {
       "summary": "{\n  \"name\": \"df\",\n  \"rows\": 100,\n  \"fields\": [\n    {\n      \"column\": \"Rank\",\n      \"properties\": {\n        \"dtype\": \"string\",\n        \"num_unique_values\": 100,\n        \"samples\": [\n          \"84\",\n          \"54\",\n          \"71\"\n        ],\n        \"semantic_type\": \"\",\n        \"description\": \"\"\n      }\n    },\n    {\n      \"column\": \"Agency Name\",\n      \"properties\": {\n        \"dtype\": \"string\",\n        \"num_unique_values\": 100,\n        \"samples\": [\n          \"The Daniel and Henry Co.\",\n          \"Rich & Cartmill Inc.\",\n          \"JMG Insurance Corp.\"\n        ],\n        \"semantic_type\": \"\",\n        \"description\": \"\"\n      }\n    },\n    {\n      \"column\": \"P/C Revenue\",\n      \"properties\": {\n        \"dtype\": \"number\",\n        \"std\": 571357563,\n        \"min\": 14267740,\n        \"max\": 2791081357,\n        \"num_unique_values\": 100,\n        \"samples\": [\n          23777000,\n          48689086,\n          36875999\n        ],\n        \"semantic_type\": \"\",\n        \"description\": \"\"\n      }\n    },\n    {\n      \"column\": \"Other Revenue\",\n      \"properties\": {\n        \"dtype\": \"number\",\n        \"std\": 324160752.4346852,\n        \"min\": 8635.0,\n        \"max\": 1701966000.0,\n        \"num_unique_values\": 92,\n        \"samples\": [\n          37285142.0,\n          51000000.0,\n          28177000.0\n        ],\n        \"semantic_type\": \"\",\n        \"description\": \"\"\n      }\n    },\n    {\n      \"column\": \"Office\",\n      \"properties\": {\n        \"dtype\": \"string\",\n        \"num_unique_values\": 88,\n        \"samples\": [\n          \"Needham, Massachusetts\",\n          \"Irvine, California\",\n          \"Gainesville, Florida\"\n        ],\n        \"semantic_type\": \"\",\n        \"description\": \"\"\n      }\n    }\n  ]\n}",
       "type": "dataframe",
       "variable_name": "df"
      },
      "text/html": [
       "\n",
       "  <div id=\"df-7038db8f-1129-4856-ab96-cb03ab589ffc\" class=\"colab-df-container\">\n",
       "    <div>\n",
       "<style scoped>\n",
       "    .dataframe tbody tr th:only-of-type {\n",
       "        vertical-align: middle;\n",
       "    }\n",
       "\n",
       "    .dataframe tbody tr th {\n",
       "        vertical-align: top;\n",
       "    }\n",
       "\n",
       "    .dataframe thead th {\n",
       "        text-align: right;\n",
       "    }\n",
       "</style>\n",
       "<table border=\"1\" class=\"dataframe\">\n",
       "  <thead>\n",
       "    <tr style=\"text-align: right;\">\n",
       "      <th></th>\n",
       "      <th>Rank</th>\n",
       "      <th>Agency Name</th>\n",
       "      <th>P/C Revenue</th>\n",
       "      <th>Other Revenue</th>\n",
       "      <th>Office</th>\n",
       "    </tr>\n",
       "  </thead>\n",
       "  <tbody>\n",
       "    <tr>\n",
       "      <th>0</th>\n",
       "      <td>1</td>\n",
       "      <td>Alliant Insurance Services/Confie</td>\n",
       "      <td>2791081357</td>\n",
       "      <td>1.127644e+09</td>\n",
       "      <td>Irvine, California</td>\n",
       "    </tr>\n",
       "    <tr>\n",
       "      <th>1</th>\n",
       "      <td>2</td>\n",
       "      <td>Acrisure LLC</td>\n",
       "      <td>2731289283</td>\n",
       "      <td>3.056087e+08</td>\n",
       "      <td>Grand Rapids, Michigan</td>\n",
       "    </tr>\n",
       "    <tr>\n",
       "      <th>2</th>\n",
       "      <td>3</td>\n",
       "      <td>HUB International Ltd.</td>\n",
       "      <td>2602873000</td>\n",
       "      <td>1.701966e+09</td>\n",
       "      <td>Chicago, Illinois</td>\n",
       "    </tr>\n",
       "    <tr>\n",
       "      <th>3</th>\n",
       "      <td>4</td>\n",
       "      <td>Lockton</td>\n",
       "      <td>2143306000</td>\n",
       "      <td>6.250540e+08</td>\n",
       "      <td>Kansas City, Missouri</td>\n",
       "    </tr>\n",
       "    <tr>\n",
       "      <th>4</th>\n",
       "      <td>5</td>\n",
       "      <td>AssuredPartners</td>\n",
       "      <td>1813550941</td>\n",
       "      <td>8.598930e+08</td>\n",
       "      <td>Orlando, Florida</td>\n",
       "    </tr>\n",
       "  </tbody>\n",
       "</table>\n",
       "</div>\n",
       "    <div class=\"colab-df-buttons\">\n",
       "\n",
       "  <div class=\"colab-df-container\">\n",
       "    <button class=\"colab-df-convert\" onclick=\"convertToInteractive('df-7038db8f-1129-4856-ab96-cb03ab589ffc')\"\n",
       "            title=\"Convert this dataframe to an interactive table.\"\n",
       "            style=\"display:none;\">\n",
       "\n",
       "  <svg xmlns=\"http://www.w3.org/2000/svg\" height=\"24px\" viewBox=\"0 -960 960 960\">\n",
       "    <path d=\"M120-120v-720h720v720H120Zm60-500h600v-160H180v160Zm220 220h160v-160H400v160Zm0 220h160v-160H400v160ZM180-400h160v-160H180v160Zm440 0h160v-160H620v160ZM180-180h160v-160H180v160Zm440 0h160v-160H620v160Z\"/>\n",
       "  </svg>\n",
       "    </button>\n",
       "\n",
       "  <style>\n",
       "    .colab-df-container {\n",
       "      display:flex;\n",
       "      gap: 12px;\n",
       "    }\n",
       "\n",
       "    .colab-df-convert {\n",
       "      background-color: #E8F0FE;\n",
       "      border: none;\n",
       "      border-radius: 50%;\n",
       "      cursor: pointer;\n",
       "      display: none;\n",
       "      fill: #1967D2;\n",
       "      height: 32px;\n",
       "      padding: 0 0 0 0;\n",
       "      width: 32px;\n",
       "    }\n",
       "\n",
       "    .colab-df-convert:hover {\n",
       "      background-color: #E2EBFA;\n",
       "      box-shadow: 0px 1px 2px rgba(60, 64, 67, 0.3), 0px 1px 3px 1px rgba(60, 64, 67, 0.15);\n",
       "      fill: #174EA6;\n",
       "    }\n",
       "\n",
       "    .colab-df-buttons div {\n",
       "      margin-bottom: 4px;\n",
       "    }\n",
       "\n",
       "    [theme=dark] .colab-df-convert {\n",
       "      background-color: #3B4455;\n",
       "      fill: #D2E3FC;\n",
       "    }\n",
       "\n",
       "    [theme=dark] .colab-df-convert:hover {\n",
       "      background-color: #434B5C;\n",
       "      box-shadow: 0px 1px 3px 1px rgba(0, 0, 0, 0.15);\n",
       "      filter: drop-shadow(0px 1px 2px rgba(0, 0, 0, 0.3));\n",
       "      fill: #FFFFFF;\n",
       "    }\n",
       "  </style>\n",
       "\n",
       "    <script>\n",
       "      const buttonEl =\n",
       "        document.querySelector('#df-7038db8f-1129-4856-ab96-cb03ab589ffc button.colab-df-convert');\n",
       "      buttonEl.style.display =\n",
       "        google.colab.kernel.accessAllowed ? 'block' : 'none';\n",
       "\n",
       "      async function convertToInteractive(key) {\n",
       "        const element = document.querySelector('#df-7038db8f-1129-4856-ab96-cb03ab589ffc');\n",
       "        const dataTable =\n",
       "          await google.colab.kernel.invokeFunction('convertToInteractive',\n",
       "                                                    [key], {});\n",
       "        if (!dataTable) return;\n",
       "\n",
       "        const docLinkHtml = 'Like what you see? Visit the ' +\n",
       "          '<a target=\"_blank\" href=https://colab.research.google.com/notebooks/data_table.ipynb>data table notebook</a>'\n",
       "          + ' to learn more about interactive tables.';\n",
       "        element.innerHTML = '';\n",
       "        dataTable['output_type'] = 'display_data';\n",
       "        await google.colab.output.renderOutput(dataTable, element);\n",
       "        const docLink = document.createElement('div');\n",
       "        docLink.innerHTML = docLinkHtml;\n",
       "        element.appendChild(docLink);\n",
       "      }\n",
       "    </script>\n",
       "  </div>\n",
       "\n",
       "\n",
       "<div id=\"df-c2f11c36-3092-4013-be98-f8bf2a806929\">\n",
       "  <button class=\"colab-df-quickchart\" onclick=\"quickchart('df-c2f11c36-3092-4013-be98-f8bf2a806929')\"\n",
       "            title=\"Suggest charts\"\n",
       "            style=\"display:none;\">\n",
       "\n",
       "<svg xmlns=\"http://www.w3.org/2000/svg\" height=\"24px\"viewBox=\"0 0 24 24\"\n",
       "     width=\"24px\">\n",
       "    <g>\n",
       "        <path d=\"M19 3H5c-1.1 0-2 .9-2 2v14c0 1.1.9 2 2 2h14c1.1 0 2-.9 2-2V5c0-1.1-.9-2-2-2zM9 17H7v-7h2v7zm4 0h-2V7h2v10zm4 0h-2v-4h2v4z\"/>\n",
       "    </g>\n",
       "</svg>\n",
       "  </button>\n",
       "\n",
       "<style>\n",
       "  .colab-df-quickchart {\n",
       "      --bg-color: #E8F0FE;\n",
       "      --fill-color: #1967D2;\n",
       "      --hover-bg-color: #E2EBFA;\n",
       "      --hover-fill-color: #174EA6;\n",
       "      --disabled-fill-color: #AAA;\n",
       "      --disabled-bg-color: #DDD;\n",
       "  }\n",
       "\n",
       "  [theme=dark] .colab-df-quickchart {\n",
       "      --bg-color: #3B4455;\n",
       "      --fill-color: #D2E3FC;\n",
       "      --hover-bg-color: #434B5C;\n",
       "      --hover-fill-color: #FFFFFF;\n",
       "      --disabled-bg-color: #3B4455;\n",
       "      --disabled-fill-color: #666;\n",
       "  }\n",
       "\n",
       "  .colab-df-quickchart {\n",
       "    background-color: var(--bg-color);\n",
       "    border: none;\n",
       "    border-radius: 50%;\n",
       "    cursor: pointer;\n",
       "    display: none;\n",
       "    fill: var(--fill-color);\n",
       "    height: 32px;\n",
       "    padding: 0;\n",
       "    width: 32px;\n",
       "  }\n",
       "\n",
       "  .colab-df-quickchart:hover {\n",
       "    background-color: var(--hover-bg-color);\n",
       "    box-shadow: 0 1px 2px rgba(60, 64, 67, 0.3), 0 1px 3px 1px rgba(60, 64, 67, 0.15);\n",
       "    fill: var(--button-hover-fill-color);\n",
       "  }\n",
       "\n",
       "  .colab-df-quickchart-complete:disabled,\n",
       "  .colab-df-quickchart-complete:disabled:hover {\n",
       "    background-color: var(--disabled-bg-color);\n",
       "    fill: var(--disabled-fill-color);\n",
       "    box-shadow: none;\n",
       "  }\n",
       "\n",
       "  .colab-df-spinner {\n",
       "    border: 2px solid var(--fill-color);\n",
       "    border-color: transparent;\n",
       "    border-bottom-color: var(--fill-color);\n",
       "    animation:\n",
       "      spin 1s steps(1) infinite;\n",
       "  }\n",
       "\n",
       "  @keyframes spin {\n",
       "    0% {\n",
       "      border-color: transparent;\n",
       "      border-bottom-color: var(--fill-color);\n",
       "      border-left-color: var(--fill-color);\n",
       "    }\n",
       "    20% {\n",
       "      border-color: transparent;\n",
       "      border-left-color: var(--fill-color);\n",
       "      border-top-color: var(--fill-color);\n",
       "    }\n",
       "    30% {\n",
       "      border-color: transparent;\n",
       "      border-left-color: var(--fill-color);\n",
       "      border-top-color: var(--fill-color);\n",
       "      border-right-color: var(--fill-color);\n",
       "    }\n",
       "    40% {\n",
       "      border-color: transparent;\n",
       "      border-right-color: var(--fill-color);\n",
       "      border-top-color: var(--fill-color);\n",
       "    }\n",
       "    60% {\n",
       "      border-color: transparent;\n",
       "      border-right-color: var(--fill-color);\n",
       "    }\n",
       "    80% {\n",
       "      border-color: transparent;\n",
       "      border-right-color: var(--fill-color);\n",
       "      border-bottom-color: var(--fill-color);\n",
       "    }\n",
       "    90% {\n",
       "      border-color: transparent;\n",
       "      border-bottom-color: var(--fill-color);\n",
       "    }\n",
       "  }\n",
       "</style>\n",
       "\n",
       "  <script>\n",
       "    async function quickchart(key) {\n",
       "      const quickchartButtonEl =\n",
       "        document.querySelector('#' + key + ' button');\n",
       "      quickchartButtonEl.disabled = true;  // To prevent multiple clicks.\n",
       "      quickchartButtonEl.classList.add('colab-df-spinner');\n",
       "      try {\n",
       "        const charts = await google.colab.kernel.invokeFunction(\n",
       "            'suggestCharts', [key], {});\n",
       "      } catch (error) {\n",
       "        console.error('Error during call to suggestCharts:', error);\n",
       "      }\n",
       "      quickchartButtonEl.classList.remove('colab-df-spinner');\n",
       "      quickchartButtonEl.classList.add('colab-df-quickchart-complete');\n",
       "    }\n",
       "    (() => {\n",
       "      let quickchartButtonEl =\n",
       "        document.querySelector('#df-c2f11c36-3092-4013-be98-f8bf2a806929 button');\n",
       "      quickchartButtonEl.style.display =\n",
       "        google.colab.kernel.accessAllowed ? 'block' : 'none';\n",
       "    })();\n",
       "  </script>\n",
       "</div>\n",
       "    </div>\n",
       "  </div>\n"
      ],
      "text/plain": [
       "  Rank                        Agency Name  P/C Revenue  Other Revenue  \\\n",
       "0    1  Alliant Insurance Services/Confie   2791081357   1.127644e+09   \n",
       "1    2                       Acrisure LLC   2731289283   3.056087e+08   \n",
       "2    3             HUB International Ltd.   2602873000   1.701966e+09   \n",
       "3    4                            Lockton   2143306000   6.250540e+08   \n",
       "4    5                    AssuredPartners   1813550941   8.598930e+08   \n",
       "\n",
       "                   Office  \n",
       "0      Irvine, California  \n",
       "1  Grand Rapids, Michigan  \n",
       "2       Chicago, Illinois  \n",
       "3   Kansas City, Missouri  \n",
       "4        Orlando, Florida  "
      ]
     },
     "execution_count": 21,
     "metadata": {},
     "output_type": "execute_result"
    }
   ],
   "source": [
    "df.head(5)"
   ]
  },
  {
   "cell_type": "markdown",
   "id": "_9VExIqfPFVo",
   "metadata": {
    "id": "_9VExIqfPFVo"
   },
   "source": [
    "6. Анализ данных"
   ]
  },
  {
   "cell_type": "code",
   "execution_count": 24,
   "id": "VA8wQLIa-Ima",
   "metadata": {
    "colab": {
     "base_uri": "https://localhost:8080/",
     "height": 410
    },
    "id": "VA8wQLIa-Ima",
    "outputId": "0a3e8a58-10cc-4ac6-e186-b36b01e25a91"
   },
   "outputs": [
    {
     "data": {
      "image/png": "[encoded data removed]",
      "text/plain": [
       "<Figure size 500x400 with 1 Axes>"
      ]
     },
     "metadata": {},
     "output_type": "display_data"
    }
   ],
   "source": [
    "plt.figure(figsize=(5, 4))\n",
    "sns.histplot(df['P/C Revenue'], kde=True, bins=30)\n",
    "plt.title('Распределение P/C Revenue среди агентств')\n",
    "plt.xlabel('P/C Revenue')\n",
    "plt.ylabel('Количество агентств')\n",
    "plt.show()"
   ]
  },
  {
   "cell_type": "code",
   "execution_count": 25,
   "id": "2ujuZkp8_fY1",
   "metadata": {
    "colab": {
     "base_uri": "https://localhost:8080/",
     "height": 472
    },
    "id": "2ujuZkp8_fY1",
    "outputId": "a5038886-18a5-4a20-80ac-82ba21ba3f96"
   },
   "outputs": [
    {
     "data": {
      "image/png": "[encoded data removed]",
      "text/plain": [
       "<Figure size 640x480 with 1 Axes>"
      ]
     },
     "metadata": {},
     "output_type": "display_data"
    }
   ],
   "source": [
    "sns.histplot(df['Other Revenue'].dropna(), kde=True, bins=30)\n",
    "plt.title('Распределение Other Revenue среди агентств')\n",
    "plt.xlabel('Other Revenue')\n",
    "plt.ylabel('Количество агентств')\n",
    "plt.show()"
   ]
  },
  {
   "cell_type": "code",
   "execution_count": 30,
   "id": "wcR8N40__r1M",
   "metadata": {
    "colab": {
     "base_uri": "https://localhost:8080/",
     "height": 487
    },
    "id": "wcR8N40__r1M",
    "outputId": "bd451397-77db-470f-afdd-e851db656cb5"
   },
   "outputs": [
    {
     "data": {
      "image/png": "[encoded data removed]",
      "text/plain": [
       "<Figure size 640x480 with 1 Axes>"
      ]
     },
     "metadata": {},
     "output_type": "display_data"
    }
   ],
   "source": [
    "sns.scatterplot(x='Rank', y='P/C Revenue', data=df)\n",
    "plt.title('Взаимосвязь между рангом агентства и P/C Revenue')\n",
    "plt.xlabel('Ранг агентства')\n",
    "plt.ylabel('P/C Revenue')\n",
    "plt.xticks(ticks=np.arange(1, 101, step=10))\n",
    "plt.show()"
   ]
  },
  {
   "cell_type": "code",
   "execution_count": 27,
   "id": "mP3IeiQJAXNh",
   "metadata": {
    "colab": {
     "base_uri": "https://localhost:8080/",
     "height": 472
    },
    "id": "mP3IeiQJAXNh",
    "outputId": "1ecc105d-7f34-47a0-f846-b60fa1ab5570"
   },
   "outputs": [
    {
     "data": {
      "image/png": "[encoded data removed]",
      "text/plain": [
       "<Figure size 640x480 with 1 Axes>"
      ]
     },
     "metadata": {},
     "output_type": "display_data"
    }
   ],
   "source": [
    "# Извлечем города из информации об офисах\n",
    "df['City'] = df['Office'].apply(lambda x: x.split(',')[0])\n",
    "\n",
    "# Построим график распределения агентств по городам\n",
    "city_counts = df['City'].value_counts().head(20)\n",
    "sns.barplot(x=city_counts.values, y=city_counts.index)\n",
    "plt.title('Распределение агентств по городам (Топ-20)')\n",
    "plt.xlabel('Количество агентств')\n",
    "plt.ylabel('Город')\n",
    "plt.show()\n"
   ]
  },
  {
   "cell_type": "markdown",
   "id": "gHMSQh-zAxmH",
   "metadata": {
    "id": "gHMSQh-zAxmH"
   },
   "source": [
    "**Вывод:** Доходы агентств сильно варьируются. Большая имеет относительно невысокие доходы, но есть несколько лидеров с очень высокими показателями P/C Revenue. Это указывает на наличие значительной концентрации доходов у топовых компаний.\n",
    "\n",
    "Самые топовые компании расположены в Солт-лейк-сити (штат Юта США), Ирвайн (Калифорния США), Нью-Йорк"
   ]
  },
  {
   "cell_type": "code",
   "execution_count": null,
   "id": "sK7eBv5UC0aO",
   "metadata": {
    "id": "sK7eBv5UC0aO"
   },
   "outputs": [],
   "source": []
  }
 ],
 "metadata": {
  "colab": {
   "provenance": []
  },
  "kernelspec": {
   "display_name": "Python 3 (ipykernel)",
   "language": "python",
   "name": "python3"
  },
  "language_info": {
   "codemirror_mode": {
    "name": "ipython",
    "version": 3
   },
   "file_extension": ".py",
   "mimetype": "text/x-python",
   "name": "python",
   "nbconvert_exporter": "python",
   "pygments_lexer": "ipython3",
   "version": "3.12.3"
  }
 },
 "nbformat": 4,
 "nbformat_minor": 5
}
